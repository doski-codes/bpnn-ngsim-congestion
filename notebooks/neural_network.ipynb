{
 "cells": [
  {
   "cell_type": "code",
   "execution_count": 1,
   "id": "challenging-islam",
   "metadata": {},
   "outputs": [],
   "source": [
    "# Import libraries\n",
    "import numpy as np\n",
    "import pandas as pd\n",
    "from pandas.plotting import autocorrelation_plot\n",
    "from matplotlib import pyplot as plt\n",
    "import seaborn as sns\n",
    "import tensorflow.keras\n",
    "from tensorflow.keras.models import Sequential, load_model\n",
    "from tensorflow.keras.layers import Dense\n",
    "from sklearn.metrics import confusion_matrix, classification_report, roc_auc_score\n",
    "from sklearn.model_selection import train_test_split\n",
    "from sklearn.preprocessing import StandardScaler\n",
    "\n",
    "%matplotlib inline"
   ]
  },
  {
   "cell_type": "code",
   "execution_count": 2,
   "id": "framed-enterprise",
   "metadata": {},
   "outputs": [],
   "source": [
    "df = pd.read_csv('NGSIM_US101.csv')"
   ]
  },
  {
   "cell_type": "code",
   "execution_count": 3,
   "id": "cooperative-compression",
   "metadata": {},
   "outputs": [
    {
     "data": {
      "text/html": [
       "<div>\n",
       "<style scoped>\n",
       "    .dataframe tbody tr th:only-of-type {\n",
       "        vertical-align: middle;\n",
       "    }\n",
       "\n",
       "    .dataframe tbody tr th {\n",
       "        vertical-align: top;\n",
       "    }\n",
       "\n",
       "    .dataframe thead th {\n",
       "        text-align: right;\n",
       "    }\n",
       "</style>\n",
       "<table border=\"1\" class=\"dataframe\">\n",
       "  <thead>\n",
       "    <tr style=\"text-align: right;\">\n",
       "      <th></th>\n",
       "      <th>Unnamed: 0</th>\n",
       "      <th>Vehicle_ID</th>\n",
       "      <th>Frame_ID</th>\n",
       "      <th>Total_Frames</th>\n",
       "      <th>Global_Time</th>\n",
       "      <th>Local_X</th>\n",
       "      <th>Local_Y</th>\n",
       "      <th>Global_X</th>\n",
       "      <th>Global_Y</th>\n",
       "      <th>v_length</th>\n",
       "      <th>v_Width</th>\n",
       "      <th>v_Class</th>\n",
       "      <th>v_Vel</th>\n",
       "      <th>v_Acc</th>\n",
       "      <th>Lane_ID</th>\n",
       "      <th>Preceding</th>\n",
       "      <th>Following</th>\n",
       "      <th>Space_Headway</th>\n",
       "      <th>Time_Headway</th>\n",
       "      <th>Congestion</th>\n",
       "    </tr>\n",
       "  </thead>\n",
       "  <tbody>\n",
       "    <tr>\n",
       "      <th>0</th>\n",
       "      <td>0</td>\n",
       "      <td>515</td>\n",
       "      <td>2330.0</td>\n",
       "      <td>1123.0</td>\n",
       "      <td>1.118848e+12</td>\n",
       "      <td>30.034</td>\n",
       "      <td>188.062</td>\n",
       "      <td>6451203.729</td>\n",
       "      <td>1873252.549</td>\n",
       "      <td>13.0</td>\n",
       "      <td>6.9</td>\n",
       "      <td>2.0</td>\n",
       "      <td>23.31</td>\n",
       "      <td>2.05</td>\n",
       "      <td>3.0</td>\n",
       "      <td>500.0</td>\n",
       "      <td>523.0</td>\n",
       "      <td>119.10</td>\n",
       "      <td>5.11</td>\n",
       "      <td>0</td>\n",
       "    </tr>\n",
       "    <tr>\n",
       "      <th>1</th>\n",
       "      <td>1</td>\n",
       "      <td>515</td>\n",
       "      <td>2330.0</td>\n",
       "      <td>1123.0</td>\n",
       "      <td>1.118848e+12</td>\n",
       "      <td>30.034</td>\n",
       "      <td>188.062</td>\n",
       "      <td>6451203.729</td>\n",
       "      <td>1873252.549</td>\n",
       "      <td>13.0</td>\n",
       "      <td>6.9</td>\n",
       "      <td>2.0</td>\n",
       "      <td>23.31</td>\n",
       "      <td>2.05</td>\n",
       "      <td>3.0</td>\n",
       "      <td>500.0</td>\n",
       "      <td>523.0</td>\n",
       "      <td>119.10</td>\n",
       "      <td>5.11</td>\n",
       "      <td>0</td>\n",
       "    </tr>\n",
       "    <tr>\n",
       "      <th>2</th>\n",
       "      <td>3</td>\n",
       "      <td>2127</td>\n",
       "      <td>6459.0</td>\n",
       "      <td>567.0</td>\n",
       "      <td>1.118848e+12</td>\n",
       "      <td>19.632</td>\n",
       "      <td>1775.614</td>\n",
       "      <td>6452425.122</td>\n",
       "      <td>1872172.475</td>\n",
       "      <td>13.5</td>\n",
       "      <td>6.9</td>\n",
       "      <td>2.0</td>\n",
       "      <td>37.52</td>\n",
       "      <td>11.20</td>\n",
       "      <td>2.0</td>\n",
       "      <td>2124.0</td>\n",
       "      <td>2132.0</td>\n",
       "      <td>48.92</td>\n",
       "      <td>1.30</td>\n",
       "      <td>0</td>\n",
       "    </tr>\n",
       "    <tr>\n",
       "      <th>3</th>\n",
       "      <td>4</td>\n",
       "      <td>1033</td>\n",
       "      <td>4827.0</td>\n",
       "      <td>592.0</td>\n",
       "      <td>1.118848e+12</td>\n",
       "      <td>6.202</td>\n",
       "      <td>1701.144</td>\n",
       "      <td>6452347.673</td>\n",
       "      <td>1872258.452</td>\n",
       "      <td>13.5</td>\n",
       "      <td>4.4</td>\n",
       "      <td>2.0</td>\n",
       "      <td>41.99</td>\n",
       "      <td>0.10</td>\n",
       "      <td>1.0</td>\n",
       "      <td>1029.0</td>\n",
       "      <td>1040.0</td>\n",
       "      <td>38.81</td>\n",
       "      <td>0.92</td>\n",
       "      <td>0</td>\n",
       "    </tr>\n",
       "    <tr>\n",
       "      <th>4</th>\n",
       "      <td>5</td>\n",
       "      <td>1033</td>\n",
       "      <td>4827.0</td>\n",
       "      <td>592.0</td>\n",
       "      <td>1.118848e+12</td>\n",
       "      <td>6.202</td>\n",
       "      <td>1701.144</td>\n",
       "      <td>6452347.673</td>\n",
       "      <td>1872258.452</td>\n",
       "      <td>13.5</td>\n",
       "      <td>4.4</td>\n",
       "      <td>2.0</td>\n",
       "      <td>41.99</td>\n",
       "      <td>0.10</td>\n",
       "      <td>1.0</td>\n",
       "      <td>1029.0</td>\n",
       "      <td>1040.0</td>\n",
       "      <td>38.81</td>\n",
       "      <td>0.92</td>\n",
       "      <td>0</td>\n",
       "    </tr>\n",
       "  </tbody>\n",
       "</table>\n",
       "</div>"
      ],
      "text/plain": [
       "   Unnamed: 0  Vehicle_ID  Frame_ID  Total_Frames   Global_Time  Local_X  \\\n",
       "0           0         515    2330.0        1123.0  1.118848e+12   30.034   \n",
       "1           1         515    2330.0        1123.0  1.118848e+12   30.034   \n",
       "2           3        2127    6459.0         567.0  1.118848e+12   19.632   \n",
       "3           4        1033    4827.0         592.0  1.118848e+12    6.202   \n",
       "4           5        1033    4827.0         592.0  1.118848e+12    6.202   \n",
       "\n",
       "    Local_Y     Global_X     Global_Y  v_length  v_Width  v_Class  v_Vel  \\\n",
       "0   188.062  6451203.729  1873252.549      13.0      6.9      2.0  23.31   \n",
       "1   188.062  6451203.729  1873252.549      13.0      6.9      2.0  23.31   \n",
       "2  1775.614  6452425.122  1872172.475      13.5      6.9      2.0  37.52   \n",
       "3  1701.144  6452347.673  1872258.452      13.5      4.4      2.0  41.99   \n",
       "4  1701.144  6452347.673  1872258.452      13.5      4.4      2.0  41.99   \n",
       "\n",
       "   v_Acc  Lane_ID  Preceding  Following  Space_Headway  Time_Headway  \\\n",
       "0   2.05      3.0      500.0      523.0         119.10          5.11   \n",
       "1   2.05      3.0      500.0      523.0         119.10          5.11   \n",
       "2  11.20      2.0     2124.0     2132.0          48.92          1.30   \n",
       "3   0.10      1.0     1029.0     1040.0          38.81          0.92   \n",
       "4   0.10      1.0     1029.0     1040.0          38.81          0.92   \n",
       "\n",
       "   Congestion  \n",
       "0           0  \n",
       "1           0  \n",
       "2           0  \n",
       "3           0  \n",
       "4           0  "
      ]
     },
     "execution_count": 3,
     "metadata": {},
     "output_type": "execute_result"
    }
   ],
   "source": [
    "df.head()"
   ]
  },
  {
   "cell_type": "code",
   "execution_count": 4,
   "id": "legendary-interaction",
   "metadata": {},
   "outputs": [
    {
     "data": {
      "text/plain": [
       "Index(['Unnamed: 0', 'Vehicle_ID', 'Frame_ID', 'Total_Frames', 'Global_Time',\n",
       "       'Local_X', 'Local_Y', 'Global_X', 'Global_Y', 'v_length', 'v_Width',\n",
       "       'v_Class', 'v_Vel', 'v_Acc', 'Lane_ID', 'Preceding', 'Following',\n",
       "       'Space_Headway', 'Time_Headway', 'Congestion'],\n",
       "      dtype='object')"
      ]
     },
     "execution_count": 4,
     "metadata": {},
     "output_type": "execute_result"
    }
   ],
   "source": [
    "df.columns"
   ]
  },
  {
   "cell_type": "code",
   "execution_count": 5,
   "id": "included-glass",
   "metadata": {},
   "outputs": [],
   "source": [
    "df.drop('Unnamed: 0', axis=1, inplace=True)"
   ]
  },
  {
   "cell_type": "code",
   "execution_count": 6,
   "id": "confident-robinson",
   "metadata": {},
   "outputs": [
    {
     "data": {
      "text/plain": [
       "72064"
      ]
     },
     "execution_count": 6,
     "metadata": {},
     "output_type": "execute_result"
    }
   ],
   "source": [
    "df.duplicated().sum()"
   ]
  },
  {
   "cell_type": "code",
   "execution_count": 7,
   "id": "executed-street",
   "metadata": {},
   "outputs": [],
   "source": [
    "df.drop_duplicates(inplace=True)"
   ]
  },
  {
   "cell_type": "code",
   "execution_count": 8,
   "id": "moved-possession",
   "metadata": {},
   "outputs": [
    {
     "name": "stdout",
     "output_type": "stream",
     "text": [
      "<class 'pandas.core.frame.DataFrame'>\n",
      "Int64Index: 455846 entries, 0 to 527909\n",
      "Data columns (total 19 columns):\n",
      " #   Column         Non-Null Count   Dtype  \n",
      "---  ------         --------------   -----  \n",
      " 0   Vehicle_ID     455846 non-null  int64  \n",
      " 1   Frame_ID       455846 non-null  float64\n",
      " 2   Total_Frames   455846 non-null  float64\n",
      " 3   Global_Time    455846 non-null  float64\n",
      " 4   Local_X        455846 non-null  float64\n",
      " 5   Local_Y        455846 non-null  float64\n",
      " 6   Global_X       455846 non-null  float64\n",
      " 7   Global_Y       455846 non-null  float64\n",
      " 8   v_length       455846 non-null  float64\n",
      " 9   v_Width        455846 non-null  float64\n",
      " 10  v_Class        455846 non-null  float64\n",
      " 11  v_Vel          455846 non-null  float64\n",
      " 12  v_Acc          455846 non-null  float64\n",
      " 13  Lane_ID        455846 non-null  float64\n",
      " 14  Preceding      455846 non-null  float64\n",
      " 15  Following      455846 non-null  float64\n",
      " 16  Space_Headway  455846 non-null  float64\n",
      " 17  Time_Headway   455846 non-null  float64\n",
      " 18  Congestion     455846 non-null  int64  \n",
      "dtypes: float64(17), int64(2)\n",
      "memory usage: 69.6 MB\n"
     ]
    }
   ],
   "source": [
    "df.info()"
   ]
  },
  {
   "cell_type": "markdown",
   "id": "cardiovascular-korean",
   "metadata": {},
   "source": [
    "# Exploratory Data Analysis\n",
    "\n",
    "#### Handling Data Columns\n",
    "Most of the columns contain data: \n",
    "- are not necessary for prediction  \n",
    "- would create a bias in our prediction model\n",
    "- would make it impossible to use the model in real time\n",
    "\n",
    "#### Data Categories\n",
    "Plotting graphs or counting categories in various columns to see the distribution of the data\n",
    "\n",
    "#### Graphs\n",
    "- Plotting graphs to see the behaviour of the data by time (Time Series).\n",
    "- Correlation heat map to see the correlation between the variables"
   ]
  },
  {
   "cell_type": "code",
   "execution_count": 9,
   "id": "atomic-solid",
   "metadata": {},
   "outputs": [],
   "source": [
    "df.drop(['Local_X', 'Local_Y', 'Global_X', 'Global_Y', 'Vehicle_ID', 'Frame_ID', 'Total_Frames',\n",
    "        'Preceding', 'Following', 'Space_Headway', 'Time_Headway'], axis=1, inplace=True)\n",
    "df.reset_index(drop=True, inplace=True)"
   ]
  },
  {
   "cell_type": "code",
   "execution_count": 10,
   "id": "constant-pocket",
   "metadata": {},
   "outputs": [
    {
     "data": {
      "text/html": [
       "<div>\n",
       "<style scoped>\n",
       "    .dataframe tbody tr th:only-of-type {\n",
       "        vertical-align: middle;\n",
       "    }\n",
       "\n",
       "    .dataframe tbody tr th {\n",
       "        vertical-align: top;\n",
       "    }\n",
       "\n",
       "    .dataframe thead th {\n",
       "        text-align: right;\n",
       "    }\n",
       "</style>\n",
       "<table border=\"1\" class=\"dataframe\">\n",
       "  <thead>\n",
       "    <tr style=\"text-align: right;\">\n",
       "      <th></th>\n",
       "      <th>Global_Time</th>\n",
       "      <th>v_length</th>\n",
       "      <th>v_Width</th>\n",
       "      <th>v_Class</th>\n",
       "      <th>v_Vel</th>\n",
       "      <th>v_Acc</th>\n",
       "      <th>Lane_ID</th>\n",
       "      <th>Congestion</th>\n",
       "    </tr>\n",
       "  </thead>\n",
       "  <tbody>\n",
       "    <tr>\n",
       "      <th>0</th>\n",
       "      <td>1.118848e+12</td>\n",
       "      <td>13.0</td>\n",
       "      <td>6.9</td>\n",
       "      <td>2.0</td>\n",
       "      <td>23.31</td>\n",
       "      <td>2.05</td>\n",
       "      <td>3.0</td>\n",
       "      <td>0</td>\n",
       "    </tr>\n",
       "    <tr>\n",
       "      <th>1</th>\n",
       "      <td>1.118848e+12</td>\n",
       "      <td>13.5</td>\n",
       "      <td>6.9</td>\n",
       "      <td>2.0</td>\n",
       "      <td>37.52</td>\n",
       "      <td>11.20</td>\n",
       "      <td>2.0</td>\n",
       "      <td>0</td>\n",
       "    </tr>\n",
       "    <tr>\n",
       "      <th>2</th>\n",
       "      <td>1.118848e+12</td>\n",
       "      <td>13.5</td>\n",
       "      <td>4.4</td>\n",
       "      <td>2.0</td>\n",
       "      <td>41.99</td>\n",
       "      <td>0.10</td>\n",
       "      <td>1.0</td>\n",
       "      <td>0</td>\n",
       "    </tr>\n",
       "    <tr>\n",
       "      <th>3</th>\n",
       "      <td>1.118850e+12</td>\n",
       "      <td>24.0</td>\n",
       "      <td>8.5</td>\n",
       "      <td>3.0</td>\n",
       "      <td>45.12</td>\n",
       "      <td>-0.55</td>\n",
       "      <td>5.0</td>\n",
       "      <td>0</td>\n",
       "    </tr>\n",
       "    <tr>\n",
       "      <th>4</th>\n",
       "      <td>1.118848e+12</td>\n",
       "      <td>15.0</td>\n",
       "      <td>5.9</td>\n",
       "      <td>2.0</td>\n",
       "      <td>24.54</td>\n",
       "      <td>-0.04</td>\n",
       "      <td>3.0</td>\n",
       "      <td>1</td>\n",
       "    </tr>\n",
       "  </tbody>\n",
       "</table>\n",
       "</div>"
      ],
      "text/plain": [
       "    Global_Time  v_length  v_Width  v_Class  v_Vel  v_Acc  Lane_ID  Congestion\n",
       "0  1.118848e+12      13.0      6.9      2.0  23.31   2.05      3.0           0\n",
       "1  1.118848e+12      13.5      6.9      2.0  37.52  11.20      2.0           0\n",
       "2  1.118848e+12      13.5      4.4      2.0  41.99   0.10      1.0           0\n",
       "3  1.118850e+12      24.0      8.5      3.0  45.12  -0.55      5.0           0\n",
       "4  1.118848e+12      15.0      5.9      2.0  24.54  -0.04      3.0           1"
      ]
     },
     "execution_count": 10,
     "metadata": {},
     "output_type": "execute_result"
    }
   ],
   "source": [
    "df.head()"
   ]
  },
  {
   "cell_type": "code",
   "execution_count": 11,
   "id": "essential-vienna",
   "metadata": {},
   "outputs": [
    {
     "name": "stdout",
     "output_type": "stream",
     "text": [
      "<class 'pandas.core.frame.DataFrame'>\n",
      "RangeIndex: 455846 entries, 0 to 455845\n",
      "Data columns (total 8 columns):\n",
      " #   Column       Non-Null Count   Dtype  \n",
      "---  ------       --------------   -----  \n",
      " 0   Global_Time  455846 non-null  float64\n",
      " 1   v_length     455846 non-null  float64\n",
      " 2   v_Width      455846 non-null  float64\n",
      " 3   v_Class      455846 non-null  float64\n",
      " 4   v_Vel        455846 non-null  float64\n",
      " 5   v_Acc        455846 non-null  float64\n",
      " 6   Lane_ID      455846 non-null  float64\n",
      " 7   Congestion   455846 non-null  int64  \n",
      "dtypes: float64(7), int64(1)\n",
      "memory usage: 27.8 MB\n"
     ]
    }
   ],
   "source": [
    "df.info()"
   ]
  },
  {
   "cell_type": "code",
   "execution_count": 12,
   "id": "endless-newman",
   "metadata": {},
   "outputs": [],
   "source": [
    "# Convert data types\n",
    "df['Global_Time'] = pd.to_datetime(df['Global_Time'], unit='ms').dt.tz_localize('GMT').dt.tz_convert('US/Pacific')"
   ]
  },
  {
   "cell_type": "code",
   "execution_count": 13,
   "id": "extreme-engineering",
   "metadata": {},
   "outputs": [
    {
     "data": {
      "text/html": [
       "<div>\n",
       "<style scoped>\n",
       "    .dataframe tbody tr th:only-of-type {\n",
       "        vertical-align: middle;\n",
       "    }\n",
       "\n",
       "    .dataframe tbody tr th {\n",
       "        vertical-align: top;\n",
       "    }\n",
       "\n",
       "    .dataframe thead th {\n",
       "        text-align: right;\n",
       "    }\n",
       "</style>\n",
       "<table border=\"1\" class=\"dataframe\">\n",
       "  <thead>\n",
       "    <tr style=\"text-align: right;\">\n",
       "      <th></th>\n",
       "      <th>Global_Time</th>\n",
       "      <th>v_length</th>\n",
       "      <th>v_Width</th>\n",
       "      <th>v_Class</th>\n",
       "      <th>v_Vel</th>\n",
       "      <th>v_Acc</th>\n",
       "      <th>Lane_ID</th>\n",
       "      <th>Congestion</th>\n",
       "    </tr>\n",
       "  </thead>\n",
       "  <tbody>\n",
       "    <tr>\n",
       "      <th>0</th>\n",
       "      <td>2005-06-15 08:07:55-07:00</td>\n",
       "      <td>13.0</td>\n",
       "      <td>6.9</td>\n",
       "      <td>2.0</td>\n",
       "      <td>23.31</td>\n",
       "      <td>2.05</td>\n",
       "      <td>3.0</td>\n",
       "      <td>0</td>\n",
       "    </tr>\n",
       "    <tr>\n",
       "      <th>1</th>\n",
       "      <td>2005-06-15 08:00:24.800000-07:00</td>\n",
       "      <td>13.5</td>\n",
       "      <td>6.9</td>\n",
       "      <td>2.0</td>\n",
       "      <td>37.52</td>\n",
       "      <td>11.20</td>\n",
       "      <td>2.0</td>\n",
       "      <td>0</td>\n",
       "    </tr>\n",
       "    <tr>\n",
       "      <th>2</th>\n",
       "      <td>2005-06-15 08:12:04.700000-07:00</td>\n",
       "      <td>13.5</td>\n",
       "      <td>4.4</td>\n",
       "      <td>2.0</td>\n",
       "      <td>41.99</td>\n",
       "      <td>0.10</td>\n",
       "      <td>1.0</td>\n",
       "      <td>0</td>\n",
       "    </tr>\n",
       "    <tr>\n",
       "      <th>3</th>\n",
       "      <td>2005-06-15 08:34:32.700000-07:00</td>\n",
       "      <td>24.0</td>\n",
       "      <td>8.5</td>\n",
       "      <td>3.0</td>\n",
       "      <td>45.12</td>\n",
       "      <td>-0.55</td>\n",
       "      <td>5.0</td>\n",
       "      <td>0</td>\n",
       "    </tr>\n",
       "    <tr>\n",
       "      <th>4</th>\n",
       "      <td>2005-06-15 08:09:41.200000-07:00</td>\n",
       "      <td>15.0</td>\n",
       "      <td>5.9</td>\n",
       "      <td>2.0</td>\n",
       "      <td>24.54</td>\n",
       "      <td>-0.04</td>\n",
       "      <td>3.0</td>\n",
       "      <td>1</td>\n",
       "    </tr>\n",
       "  </tbody>\n",
       "</table>\n",
       "</div>"
      ],
      "text/plain": [
       "                       Global_Time  v_length  v_Width  v_Class  v_Vel  v_Acc  \\\n",
       "0        2005-06-15 08:07:55-07:00      13.0      6.9      2.0  23.31   2.05   \n",
       "1 2005-06-15 08:00:24.800000-07:00      13.5      6.9      2.0  37.52  11.20   \n",
       "2 2005-06-15 08:12:04.700000-07:00      13.5      4.4      2.0  41.99   0.10   \n",
       "3 2005-06-15 08:34:32.700000-07:00      24.0      8.5      3.0  45.12  -0.55   \n",
       "4 2005-06-15 08:09:41.200000-07:00      15.0      5.9      2.0  24.54  -0.04   \n",
       "\n",
       "   Lane_ID  Congestion  \n",
       "0      3.0           0  \n",
       "1      2.0           0  \n",
       "2      1.0           0  \n",
       "3      5.0           0  \n",
       "4      3.0           1  "
      ]
     },
     "execution_count": 13,
     "metadata": {},
     "output_type": "execute_result"
    }
   ],
   "source": [
    "df.head()"
   ]
  },
  {
   "cell_type": "code",
   "execution_count": 14,
   "id": "ranking-recognition",
   "metadata": {},
   "outputs": [],
   "source": [
    "# Extract time features\n",
    "df['Time_Hour'] = df['Global_Time'].dt.hour\n",
    "df['Time_Minute'] = df['Global_Time'].dt.minute\n",
    "df['Time_Second'] = df['Global_Time'].dt.second\n",
    "df['Time'] = df['Global_Time'].dt.strftime('%H:%M:%S')"
   ]
  },
  {
   "cell_type": "code",
   "execution_count": 15,
   "id": "psychological-contest",
   "metadata": {},
   "outputs": [
    {
     "data": {
      "text/html": [
       "<div>\n",
       "<style scoped>\n",
       "    .dataframe tbody tr th:only-of-type {\n",
       "        vertical-align: middle;\n",
       "    }\n",
       "\n",
       "    .dataframe tbody tr th {\n",
       "        vertical-align: top;\n",
       "    }\n",
       "\n",
       "    .dataframe thead th {\n",
       "        text-align: right;\n",
       "    }\n",
       "</style>\n",
       "<table border=\"1\" class=\"dataframe\">\n",
       "  <thead>\n",
       "    <tr style=\"text-align: right;\">\n",
       "      <th></th>\n",
       "      <th>Global_Time</th>\n",
       "      <th>v_length</th>\n",
       "      <th>v_Width</th>\n",
       "      <th>v_Class</th>\n",
       "      <th>v_Vel</th>\n",
       "      <th>v_Acc</th>\n",
       "      <th>Lane_ID</th>\n",
       "      <th>Congestion</th>\n",
       "      <th>Time_Hour</th>\n",
       "      <th>Time_Minute</th>\n",
       "      <th>Time_Second</th>\n",
       "      <th>Time</th>\n",
       "    </tr>\n",
       "  </thead>\n",
       "  <tbody>\n",
       "    <tr>\n",
       "      <th>0</th>\n",
       "      <td>2005-06-15 08:07:55-07:00</td>\n",
       "      <td>13.0</td>\n",
       "      <td>6.9</td>\n",
       "      <td>2.0</td>\n",
       "      <td>23.31</td>\n",
       "      <td>2.05</td>\n",
       "      <td>3.0</td>\n",
       "      <td>0</td>\n",
       "      <td>8</td>\n",
       "      <td>7</td>\n",
       "      <td>55</td>\n",
       "      <td>08:07:55</td>\n",
       "    </tr>\n",
       "    <tr>\n",
       "      <th>1</th>\n",
       "      <td>2005-06-15 08:00:24.800000-07:00</td>\n",
       "      <td>13.5</td>\n",
       "      <td>6.9</td>\n",
       "      <td>2.0</td>\n",
       "      <td>37.52</td>\n",
       "      <td>11.20</td>\n",
       "      <td>2.0</td>\n",
       "      <td>0</td>\n",
       "      <td>8</td>\n",
       "      <td>0</td>\n",
       "      <td>24</td>\n",
       "      <td>08:00:24</td>\n",
       "    </tr>\n",
       "    <tr>\n",
       "      <th>2</th>\n",
       "      <td>2005-06-15 08:12:04.700000-07:00</td>\n",
       "      <td>13.5</td>\n",
       "      <td>4.4</td>\n",
       "      <td>2.0</td>\n",
       "      <td>41.99</td>\n",
       "      <td>0.10</td>\n",
       "      <td>1.0</td>\n",
       "      <td>0</td>\n",
       "      <td>8</td>\n",
       "      <td>12</td>\n",
       "      <td>4</td>\n",
       "      <td>08:12:04</td>\n",
       "    </tr>\n",
       "    <tr>\n",
       "      <th>3</th>\n",
       "      <td>2005-06-15 08:34:32.700000-07:00</td>\n",
       "      <td>24.0</td>\n",
       "      <td>8.5</td>\n",
       "      <td>3.0</td>\n",
       "      <td>45.12</td>\n",
       "      <td>-0.55</td>\n",
       "      <td>5.0</td>\n",
       "      <td>0</td>\n",
       "      <td>8</td>\n",
       "      <td>34</td>\n",
       "      <td>32</td>\n",
       "      <td>08:34:32</td>\n",
       "    </tr>\n",
       "    <tr>\n",
       "      <th>4</th>\n",
       "      <td>2005-06-15 08:09:41.200000-07:00</td>\n",
       "      <td>15.0</td>\n",
       "      <td>5.9</td>\n",
       "      <td>2.0</td>\n",
       "      <td>24.54</td>\n",
       "      <td>-0.04</td>\n",
       "      <td>3.0</td>\n",
       "      <td>1</td>\n",
       "      <td>8</td>\n",
       "      <td>9</td>\n",
       "      <td>41</td>\n",
       "      <td>08:09:41</td>\n",
       "    </tr>\n",
       "  </tbody>\n",
       "</table>\n",
       "</div>"
      ],
      "text/plain": [
       "                       Global_Time  v_length  v_Width  v_Class  v_Vel  v_Acc  \\\n",
       "0        2005-06-15 08:07:55-07:00      13.0      6.9      2.0  23.31   2.05   \n",
       "1 2005-06-15 08:00:24.800000-07:00      13.5      6.9      2.0  37.52  11.20   \n",
       "2 2005-06-15 08:12:04.700000-07:00      13.5      4.4      2.0  41.99   0.10   \n",
       "3 2005-06-15 08:34:32.700000-07:00      24.0      8.5      3.0  45.12  -0.55   \n",
       "4 2005-06-15 08:09:41.200000-07:00      15.0      5.9      2.0  24.54  -0.04   \n",
       "\n",
       "   Lane_ID  Congestion  Time_Hour  Time_Minute  Time_Second      Time  \n",
       "0      3.0           0          8            7           55  08:07:55  \n",
       "1      2.0           0          8            0           24  08:00:24  \n",
       "2      1.0           0          8           12            4  08:12:04  \n",
       "3      5.0           0          8           34           32  08:34:32  \n",
       "4      3.0           1          8            9           41  08:09:41  "
      ]
     },
     "execution_count": 15,
     "metadata": {},
     "output_type": "execute_result"
    }
   ],
   "source": [
    "df.head()"
   ]
  },
  {
   "cell_type": "code",
   "execution_count": 16,
   "id": "spread-conjunction",
   "metadata": {},
   "outputs": [
    {
     "data": {
      "text/html": [
       "<div>\n",
       "<style scoped>\n",
       "    .dataframe tbody tr th:only-of-type {\n",
       "        vertical-align: middle;\n",
       "    }\n",
       "\n",
       "    .dataframe tbody tr th {\n",
       "        vertical-align: top;\n",
       "    }\n",
       "\n",
       "    .dataframe thead th {\n",
       "        text-align: right;\n",
       "    }\n",
       "</style>\n",
       "<table border=\"1\" class=\"dataframe\">\n",
       "  <thead>\n",
       "    <tr style=\"text-align: right;\">\n",
       "      <th></th>\n",
       "      <th>v_length</th>\n",
       "      <th>v_Width</th>\n",
       "      <th>v_Class</th>\n",
       "      <th>v_Vel</th>\n",
       "      <th>v_Acc</th>\n",
       "      <th>Lane_ID</th>\n",
       "      <th>Congestion</th>\n",
       "      <th>Time_Hour</th>\n",
       "      <th>Time_Minute</th>\n",
       "      <th>Time_Second</th>\n",
       "    </tr>\n",
       "  </thead>\n",
       "  <tbody>\n",
       "    <tr>\n",
       "      <th>count</th>\n",
       "      <td>455846.000000</td>\n",
       "      <td>455846.000000</td>\n",
       "      <td>455846.000000</td>\n",
       "      <td>455846.000000</td>\n",
       "      <td>455846.000000</td>\n",
       "      <td>455846.000000</td>\n",
       "      <td>455846.000000</td>\n",
       "      <td>455846.000000</td>\n",
       "      <td>455846.000000</td>\n",
       "      <td>455846.000000</td>\n",
       "    </tr>\n",
       "    <tr>\n",
       "      <th>mean</th>\n",
       "      <td>15.309449</td>\n",
       "      <td>6.296412</td>\n",
       "      <td>2.016080</td>\n",
       "      <td>30.119328</td>\n",
       "      <td>0.159670</td>\n",
       "      <td>2.991453</td>\n",
       "      <td>0.392236</td>\n",
       "      <td>7.833319</td>\n",
       "      <td>24.158093</td>\n",
       "      <td>29.414658</td>\n",
       "    </tr>\n",
       "    <tr>\n",
       "      <th>std</th>\n",
       "      <td>4.488224</td>\n",
       "      <td>0.892994</td>\n",
       "      <td>0.162736</td>\n",
       "      <td>14.070791</td>\n",
       "      <td>4.550935</td>\n",
       "      <td>1.459117</td>\n",
       "      <td>0.488249</td>\n",
       "      <td>0.372691</td>\n",
       "      <td>16.528372</td>\n",
       "      <td>17.309386</td>\n",
       "    </tr>\n",
       "    <tr>\n",
       "      <th>min</th>\n",
       "      <td>4.000000</td>\n",
       "      <td>2.000000</td>\n",
       "      <td>1.000000</td>\n",
       "      <td>0.000000</td>\n",
       "      <td>-11.200000</td>\n",
       "      <td>1.000000</td>\n",
       "      <td>0.000000</td>\n",
       "      <td>7.000000</td>\n",
       "      <td>0.000000</td>\n",
       "      <td>0.000000</td>\n",
       "    </tr>\n",
       "    <tr>\n",
       "      <th>25%</th>\n",
       "      <td>13.500000</td>\n",
       "      <td>5.900000</td>\n",
       "      <td>2.000000</td>\n",
       "      <td>20.000000</td>\n",
       "      <td>-0.770000</td>\n",
       "      <td>2.000000</td>\n",
       "      <td>0.000000</td>\n",
       "      <td>8.000000</td>\n",
       "      <td>11.000000</td>\n",
       "      <td>14.000000</td>\n",
       "    </tr>\n",
       "    <tr>\n",
       "      <th>50%</th>\n",
       "      <td>15.000000</td>\n",
       "      <td>6.400000</td>\n",
       "      <td>2.000000</td>\n",
       "      <td>30.240000</td>\n",
       "      <td>0.000000</td>\n",
       "      <td>3.000000</td>\n",
       "      <td>0.000000</td>\n",
       "      <td>8.000000</td>\n",
       "      <td>22.000000</td>\n",
       "      <td>29.000000</td>\n",
       "    </tr>\n",
       "    <tr>\n",
       "      <th>75%</th>\n",
       "      <td>16.000000</td>\n",
       "      <td>6.900000</td>\n",
       "      <td>2.000000</td>\n",
       "      <td>39.990000</td>\n",
       "      <td>1.380000</td>\n",
       "      <td>4.000000</td>\n",
       "      <td>1.000000</td>\n",
       "      <td>8.000000</td>\n",
       "      <td>32.000000</td>\n",
       "      <td>44.000000</td>\n",
       "    </tr>\n",
       "    <tr>\n",
       "      <th>max</th>\n",
       "      <td>76.100000</td>\n",
       "      <td>8.500000</td>\n",
       "      <td>3.000000</td>\n",
       "      <td>95.300000</td>\n",
       "      <td>11.200000</td>\n",
       "      <td>8.000000</td>\n",
       "      <td>1.000000</td>\n",
       "      <td>8.000000</td>\n",
       "      <td>59.000000</td>\n",
       "      <td>59.000000</td>\n",
       "    </tr>\n",
       "  </tbody>\n",
       "</table>\n",
       "</div>"
      ],
      "text/plain": [
       "            v_length        v_Width        v_Class          v_Vel  \\\n",
       "count  455846.000000  455846.000000  455846.000000  455846.000000   \n",
       "mean       15.309449       6.296412       2.016080      30.119328   \n",
       "std         4.488224       0.892994       0.162736      14.070791   \n",
       "min         4.000000       2.000000       1.000000       0.000000   \n",
       "25%        13.500000       5.900000       2.000000      20.000000   \n",
       "50%        15.000000       6.400000       2.000000      30.240000   \n",
       "75%        16.000000       6.900000       2.000000      39.990000   \n",
       "max        76.100000       8.500000       3.000000      95.300000   \n",
       "\n",
       "               v_Acc        Lane_ID     Congestion      Time_Hour  \\\n",
       "count  455846.000000  455846.000000  455846.000000  455846.000000   \n",
       "mean        0.159670       2.991453       0.392236       7.833319   \n",
       "std         4.550935       1.459117       0.488249       0.372691   \n",
       "min       -11.200000       1.000000       0.000000       7.000000   \n",
       "25%        -0.770000       2.000000       0.000000       8.000000   \n",
       "50%         0.000000       3.000000       0.000000       8.000000   \n",
       "75%         1.380000       4.000000       1.000000       8.000000   \n",
       "max        11.200000       8.000000       1.000000       8.000000   \n",
       "\n",
       "         Time_Minute    Time_Second  \n",
       "count  455846.000000  455846.000000  \n",
       "mean       24.158093      29.414658  \n",
       "std        16.528372      17.309386  \n",
       "min         0.000000       0.000000  \n",
       "25%        11.000000      14.000000  \n",
       "50%        22.000000      29.000000  \n",
       "75%        32.000000      44.000000  \n",
       "max        59.000000      59.000000  "
      ]
     },
     "execution_count": 16,
     "metadata": {},
     "output_type": "execute_result"
    }
   ],
   "source": [
    "df.describe()"
   ]
  },
  {
   "cell_type": "code",
   "execution_count": 17,
   "id": "failing-border",
   "metadata": {},
   "outputs": [
    {
     "data": {
      "text/plain": [
       "47.0       42\n",
       "39.0       42\n",
       "61.5       42\n",
       "54.5       46\n",
       "65.0       47\n",
       "        ...  \n",
       "16.0    37600\n",
       "14.0    41390\n",
       "15.5    47361\n",
       "14.5    51479\n",
       "15.0    52482\n",
       "Name: v_length, Length: 97, dtype: int64"
      ]
     },
     "execution_count": 17,
     "metadata": {},
     "output_type": "execute_result"
    }
   ],
   "source": [
    "# Check the most and least vehicle lengths in the data\n",
    "df.v_length.value_counts().sort_values()"
   ]
  },
  {
   "cell_type": "code",
   "execution_count": 18,
   "id": "social-intersection",
   "metadata": {},
   "outputs": [
    {
     "data": {
      "image/png": "[encoded data removed]",
      "text/plain": [
       "<Figure size 720x360 with 1 Axes>"
      ]
     },
     "metadata": {
      "needs_background": "light"
     },
     "output_type": "display_data"
    }
   ],
   "source": [
    "# Distribution of vehicle widths in the data\n",
    "ax = df.v_Width.value_counts().sort_index().plot(kind='bar', figsize=(10,5), title='Vehicle Width Distribution')"
   ]
  },
  {
   "cell_type": "code",
   "execution_count": 19,
   "id": "consolidated-scope",
   "metadata": {},
   "outputs": [
    {
     "data": {
      "image/png": "[encoded data removed]",
      "text/plain": [
       "<Figure size 504x360 with 1 Axes>"
      ]
     },
     "metadata": {
      "needs_background": "light"
     },
     "output_type": "display_data"
    }
   ],
   "source": [
    "# Graph to show v_Class distribution\n",
    "ax = df.v_Class.value_counts().sort_index().plot(kind='bar', figsize=(7,5), title='Vehicle Class Distribution')"
   ]
  },
  {
   "cell_type": "code",
   "execution_count": 20,
   "id": "numerical-depth",
   "metadata": {},
   "outputs": [
    {
     "data": {
      "text/plain": [
       "2.0    94821\n",
       "1.0    93273\n",
       "3.0    89603\n",
       "4.0    88966\n",
       "5.0    81591\n",
       "6.0     5614\n",
       "7.0     1409\n",
       "8.0      569\n",
       "Name: Lane_ID, dtype: int64"
      ]
     },
     "execution_count": 20,
     "metadata": {},
     "output_type": "execute_result"
    }
   ],
   "source": [
    "# The number of vehicles that used each lane\n",
    "df.Lane_ID.value_counts()"
   ]
  },
  {
   "cell_type": "code",
   "execution_count": 21,
   "id": "scientific-representation",
   "metadata": {},
   "outputs": [],
   "source": [
    "speed_columns = ['v_Vel', 'v_Acc']"
   ]
  },
  {
   "cell_type": "code",
   "execution_count": 22,
   "id": "rising-length",
   "metadata": {},
   "outputs": [
    {
     "data": {
      "text/plain": [
       "<Figure size 432x288 with 0 Axes>"
      ]
     },
     "metadata": {},
     "output_type": "display_data"
    },
    {
     "data": {
      "image/png": "[encoded data removed]",
      "text/plain": [
       "<Figure size 1800x1440 with 2 Axes>"
      ]
     },
     "metadata": {
      "needs_background": "light"
     },
     "output_type": "display_data"
    }
   ],
   "source": [
    "# Time series to show the behaviour of the vehicles velocity and acceleration over time\n",
    "plt.figure()\n",
    "ax = df.plot(x='Global_Time', y=speed_columns, kind='line', figsize=(25, 20), subplots=True,\n",
    "                title=speed_columns)"
   ]
  },
  {
   "cell_type": "code",
   "execution_count": 23,
   "id": "lyric-bangladesh",
   "metadata": {},
   "outputs": [
    {
     "data": {
      "image/png": "[encoded data removed]",
      "text/plain": [
       "<Figure size 648x648 with 2 Axes>"
      ]
     },
     "metadata": {
      "needs_background": "light"
     },
     "output_type": "display_data"
    }
   ],
   "source": [
    "# Heatmap to show the correlation between the variables\n",
    "corr = df.corr()\n",
    "plt.figure(figsize=(9,9))\n",
    "ax = sns.heatmap(corr, linewidth=0.5, cmap='RdYlGn')"
   ]
  },
  {
   "cell_type": "markdown",
   "id": "hazardous-paraguay",
   "metadata": {},
   "source": [
    "From the heatmap we can tell the following:\n",
    "- Strong correlation between the hour and minute\n",
    "- Strong correlation between congestion and the vehicles velocity\n",
    "- Low correlations between the hour, minute, lane and the vehicles velocity\n",
    "\n",
    "Could the hour, minute, lane influence the vehicles velocity and correlation?"
   ]
  },
  {
   "cell_type": "code",
   "execution_count": 24,
   "id": "forty-namibia",
   "metadata": {},
   "outputs": [
    {
     "data": {
      "text/plain": [
       "count       455846\n",
       "unique        2772\n",
       "top       08:31:24\n",
       "freq           292\n",
       "Name: Time, dtype: object"
      ]
     },
     "execution_count": 24,
     "metadata": {},
     "output_type": "execute_result"
    }
   ],
   "source": [
    "df.Time.describe()"
   ]
  },
  {
   "cell_type": "code",
   "execution_count": 25,
   "id": "checked-attendance",
   "metadata": {},
   "outputs": [
    {
     "data": {
      "image/png": "[encoded data removed]",
      "text/plain": [
       "<Figure size 1296x576 with 1 Axes>"
      ]
     },
     "metadata": {
      "needs_background": "light"
     },
     "output_type": "display_data"
    }
   ],
   "source": [
    "ax = df.Time.value_counts().sort_index().plot(kind='line', figsize=(18,8), \n",
    "                                              title='Vehicle Volume Series')"
   ]
  },
  {
   "cell_type": "code",
   "execution_count": 26,
   "id": "destroyed-silicon",
   "metadata": {},
   "outputs": [],
   "source": [
    "ax.get_figure().savefig('Vehicle Volume.png')"
   ]
  },
  {
   "cell_type": "markdown",
   "id": "wicked-junior",
   "metadata": {},
   "source": [
    "# Model Building\n",
    "\n",
    "#### Preparing the data"
   ]
  },
  {
   "cell_type": "code",
   "execution_count": 27,
   "id": "sudden-hawaiian",
   "metadata": {},
   "outputs": [],
   "source": [
    "# Dataframe to be used for model prediction\n",
    "data = df.iloc[:, 1:11]"
   ]
  },
  {
   "cell_type": "code",
   "execution_count": 28,
   "id": "better-target",
   "metadata": {},
   "outputs": [
    {
     "data": {
      "text/html": [
       "<div>\n",
       "<style scoped>\n",
       "    .dataframe tbody tr th:only-of-type {\n",
       "        vertical-align: middle;\n",
       "    }\n",
       "\n",
       "    .dataframe tbody tr th {\n",
       "        vertical-align: top;\n",
       "    }\n",
       "\n",
       "    .dataframe thead th {\n",
       "        text-align: right;\n",
       "    }\n",
       "</style>\n",
       "<table border=\"1\" class=\"dataframe\">\n",
       "  <thead>\n",
       "    <tr style=\"text-align: right;\">\n",
       "      <th></th>\n",
       "      <th>v_length</th>\n",
       "      <th>v_Width</th>\n",
       "      <th>v_Class</th>\n",
       "      <th>v_Vel</th>\n",
       "      <th>v_Acc</th>\n",
       "      <th>Lane_ID</th>\n",
       "      <th>Congestion</th>\n",
       "      <th>Time_Hour</th>\n",
       "      <th>Time_Minute</th>\n",
       "      <th>Time_Second</th>\n",
       "    </tr>\n",
       "  </thead>\n",
       "  <tbody>\n",
       "    <tr>\n",
       "      <th>0</th>\n",
       "      <td>13.0</td>\n",
       "      <td>6.9</td>\n",
       "      <td>2.0</td>\n",
       "      <td>23.31</td>\n",
       "      <td>2.05</td>\n",
       "      <td>3.0</td>\n",
       "      <td>0</td>\n",
       "      <td>8</td>\n",
       "      <td>7</td>\n",
       "      <td>55</td>\n",
       "    </tr>\n",
       "    <tr>\n",
       "      <th>1</th>\n",
       "      <td>13.5</td>\n",
       "      <td>6.9</td>\n",
       "      <td>2.0</td>\n",
       "      <td>37.52</td>\n",
       "      <td>11.20</td>\n",
       "      <td>2.0</td>\n",
       "      <td>0</td>\n",
       "      <td>8</td>\n",
       "      <td>0</td>\n",
       "      <td>24</td>\n",
       "    </tr>\n",
       "    <tr>\n",
       "      <th>2</th>\n",
       "      <td>13.5</td>\n",
       "      <td>4.4</td>\n",
       "      <td>2.0</td>\n",
       "      <td>41.99</td>\n",
       "      <td>0.10</td>\n",
       "      <td>1.0</td>\n",
       "      <td>0</td>\n",
       "      <td>8</td>\n",
       "      <td>12</td>\n",
       "      <td>4</td>\n",
       "    </tr>\n",
       "    <tr>\n",
       "      <th>3</th>\n",
       "      <td>24.0</td>\n",
       "      <td>8.5</td>\n",
       "      <td>3.0</td>\n",
       "      <td>45.12</td>\n",
       "      <td>-0.55</td>\n",
       "      <td>5.0</td>\n",
       "      <td>0</td>\n",
       "      <td>8</td>\n",
       "      <td>34</td>\n",
       "      <td>32</td>\n",
       "    </tr>\n",
       "    <tr>\n",
       "      <th>4</th>\n",
       "      <td>15.0</td>\n",
       "      <td>5.9</td>\n",
       "      <td>2.0</td>\n",
       "      <td>24.54</td>\n",
       "      <td>-0.04</td>\n",
       "      <td>3.0</td>\n",
       "      <td>1</td>\n",
       "      <td>8</td>\n",
       "      <td>9</td>\n",
       "      <td>41</td>\n",
       "    </tr>\n",
       "  </tbody>\n",
       "</table>\n",
       "</div>"
      ],
      "text/plain": [
       "   v_length  v_Width  v_Class  v_Vel  v_Acc  Lane_ID  Congestion  Time_Hour  \\\n",
       "0      13.0      6.9      2.0  23.31   2.05      3.0           0          8   \n",
       "1      13.5      6.9      2.0  37.52  11.20      2.0           0          8   \n",
       "2      13.5      4.4      2.0  41.99   0.10      1.0           0          8   \n",
       "3      24.0      8.5      3.0  45.12  -0.55      5.0           0          8   \n",
       "4      15.0      5.9      2.0  24.54  -0.04      3.0           1          8   \n",
       "\n",
       "   Time_Minute  Time_Second  \n",
       "0            7           55  \n",
       "1            0           24  \n",
       "2           12            4  \n",
       "3           34           32  \n",
       "4            9           41  "
      ]
     },
     "execution_count": 28,
     "metadata": {},
     "output_type": "execute_result"
    }
   ],
   "source": [
    "data.head()"
   ]
  },
  {
   "cell_type": "code",
   "execution_count": 29,
   "id": "organized-greensboro",
   "metadata": {},
   "outputs": [],
   "source": [
    "# Select feature columns and convert them to a numpy array\n",
    "X = data.drop('Congestion', axis=1).values"
   ]
  },
  {
   "cell_type": "code",
   "execution_count": 30,
   "id": "twenty-bikini",
   "metadata": {},
   "outputs": [
    {
     "data": {
      "text/plain": [
       "array([[13. ,  6.9,  2. , ...,  8. ,  7. , 55. ],\n",
       "       [13.5,  6.9,  2. , ...,  8. ,  0. , 24. ],\n",
       "       [13.5,  4.4,  2. , ...,  8. , 12. ,  4. ],\n",
       "       ...,\n",
       "       [16.5,  6.4,  2. , ...,  8. , 16. , 31. ],\n",
       "       [13.5,  5.9,  2. , ...,  8. , 15. , 56. ],\n",
       "       [14.5,  7.4,  2. , ...,  8. , 33. , 22. ]])"
      ]
     },
     "execution_count": 30,
     "metadata": {},
     "output_type": "execute_result"
    }
   ],
   "source": [
    "X"
   ]
  },
  {
   "cell_type": "code",
   "execution_count": 31,
   "id": "nutritional-priority",
   "metadata": {},
   "outputs": [],
   "source": [
    "# Select label columns and convert them to a numpy array\n",
    "y = data.Congestion.values"
   ]
  },
  {
   "cell_type": "code",
   "execution_count": 32,
   "id": "supported-claim",
   "metadata": {},
   "outputs": [
    {
     "data": {
      "text/plain": [
       "array([0, 0, 0, ..., 1, 1, 0])"
      ]
     },
     "execution_count": 32,
     "metadata": {},
     "output_type": "execute_result"
    }
   ],
   "source": [
    "y"
   ]
  },
  {
   "cell_type": "code",
   "execution_count": 33,
   "id": "endangered-saying",
   "metadata": {},
   "outputs": [],
   "source": [
    "# Split the data into the training and Test set\n",
    "X_train, X_test, y_train, y_test = train_test_split(X, y, test_size = 0.3, random_state = 0)"
   ]
  },
  {
   "cell_type": "code",
   "execution_count": 34,
   "id": "alternate-composer",
   "metadata": {},
   "outputs": [],
   "source": [
    "# Feature scaling by standardizing the data for prediction\n",
    "sc = StandardScaler()\n",
    "X_train = sc.fit_transform(X_train)\n",
    "X_test = sc.transform(X_test)"
   ]
  },
  {
   "cell_type": "markdown",
   "id": "seeing-patient",
   "metadata": {},
   "source": [
    "#### Building the neural network"
   ]
  },
  {
   "cell_type": "code",
   "execution_count": 35,
   "id": "played-field",
   "metadata": {},
   "outputs": [],
   "source": [
    "# Initializing the neural network\n",
    "model = Sequential()"
   ]
  },
  {
   "cell_type": "markdown",
   "id": "artificial-davis",
   "metadata": {},
   "source": [
    "##### Adding the layers"
   ]
  },
  {
   "cell_type": "code",
   "execution_count": 36,
   "id": "surprising-rider",
   "metadata": {},
   "outputs": [],
   "source": [
    "# Input layer with 9 nodes and a hidden layer with 5 nodes using the relu activation function\n",
    "model.add(Dense(units = 5, kernel_initializer = 'uniform', activation = 'relu', input_dim = 9))"
   ]
  },
  {
   "cell_type": "code",
   "execution_count": 37,
   "id": "herbal-player",
   "metadata": {},
   "outputs": [],
   "source": [
    "# Output layer with 1 node using the sigmoid activation function\n",
    "model.add(Dense(units = 1, kernel_initializer = 'uniform', activation = 'sigmoid'))"
   ]
  },
  {
   "cell_type": "code",
   "execution_count": 38,
   "id": "written-murder",
   "metadata": {},
   "outputs": [],
   "source": [
    "# Compile the neural network\n",
    "model.compile(optimizer = 'adam', loss = 'binary_crossentropy', metrics = ['accuracy'])"
   ]
  },
  {
   "cell_type": "code",
   "execution_count": 39,
   "id": "thirty-paragraph",
   "metadata": {},
   "outputs": [],
   "source": [
    "# Uncomment to train the model\n",
    "# model.fit(X_train, y_train, batch_size = 10, epochs = 100)"
   ]
  },
  {
   "cell_type": "code",
   "execution_count": 40,
   "id": "understood-belief",
   "metadata": {},
   "outputs": [],
   "source": [
    "# Save the model\n",
    "# model.save('models/raw_model.keras')"
   ]
  },
  {
   "cell_type": "code",
   "execution_count": 41,
   "id": "spare-triumph",
   "metadata": {},
   "outputs": [],
   "source": [
    "model = load_model('models/raw_model.keras', compile=False)"
   ]
  },
  {
   "cell_type": "code",
   "execution_count": 42,
   "id": "moved-federation",
   "metadata": {},
   "outputs": [
    {
     "name": "stdout",
     "output_type": "stream",
     "text": [
      "Model: \"sequential\"\n",
      "_________________________________________________________________\n",
      "Layer (type)                 Output Shape              Param #   \n",
      "=================================================================\n",
      "dense (Dense)                (None, 5)                 50        \n",
      "_________________________________________________________________\n",
      "dense_1 (Dense)              (None, 1)                 6         \n",
      "=================================================================\n",
      "Total params: 56\n",
      "Trainable params: 56\n",
      "Non-trainable params: 0\n",
      "_________________________________________________________________\n"
     ]
    }
   ],
   "source": [
    "model.summary()"
   ]
  },
  {
   "cell_type": "code",
   "execution_count": 43,
   "id": "beginning-sister",
   "metadata": {},
   "outputs": [],
   "source": [
    "# Use the model for predictions and convert probabilities above 0.5 to 1\n",
    "y_pred = model.predict(X_test)\n",
    "y_pred = y_pred > 0.5"
   ]
  },
  {
   "cell_type": "code",
   "execution_count": 44,
   "id": "nasty-declaration",
   "metadata": {},
   "outputs": [
    {
     "name": "stdout",
     "output_type": "stream",
     "text": [
      "[[70724 12458]\n",
      " [ 1046 52526]]\n"
     ]
    }
   ],
   "source": [
    "# Check the confusion matrix\n",
    "print(confusion_matrix(y_test, y_pred))"
   ]
  },
  {
   "cell_type": "code",
   "execution_count": 45,
   "id": "religious-pledge",
   "metadata": {},
   "outputs": [
    {
     "name": "stdout",
     "output_type": "stream",
     "text": [
      "              precision    recall  f1-score   support\n",
      "\n",
      "           0       0.99      0.85      0.91     83182\n",
      "           1       0.81      0.98      0.89     53572\n",
      "\n",
      "    accuracy                           0.90    136754\n",
      "   macro avg       0.90      0.92      0.90    136754\n",
      "weighted avg       0.92      0.90      0.90    136754\n",
      "\n"
     ]
    }
   ],
   "source": [
    "# Check the classification report\n",
    "print(classification_report(y_test, y_pred))"
   ]
  },
  {
   "cell_type": "code",
   "execution_count": 46,
   "id": "controlling-girlfriend",
   "metadata": {},
   "outputs": [
    {
     "name": "stdout",
     "output_type": "stream",
     "text": [
      "0.9153534481427202\n"
     ]
    }
   ],
   "source": [
    "# Check auc score\n",
    "print(roc_auc_score(y_test, y_pred))"
   ]
  },
  {
   "cell_type": "code",
   "execution_count": null,
   "id": "southern-breed",
   "metadata": {},
   "outputs": [],
   "source": []
  }
 ],
 "metadata": {
  "kernelspec": {
   "display_name": "Python 3",
   "language": "python",
   "name": "python3"
  },
  "language_info": {
   "codemirror_mode": {
    "name": "ipython",
    "version": 3
   },
   "file_extension": ".py",
   "mimetype": "text/x-python",
   "name": "python",
   "nbconvert_exporter": "python",
   "pygments_lexer": "ipython3",
   "version": "3.7.10"
  }
 },
 "nbformat": 4,
 "nbformat_minor": 5
}
