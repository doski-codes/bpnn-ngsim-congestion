{
  "nbformat": 4,
  "nbformat_minor": 5,
  "metadata": {
    "kernelspec": {
      "display_name": "Python 3",
      "language": "python",
      "name": "python3"
    },
    "language_info": {
      "codemirror_mode": {
        "name": "ipython",
        "version": 3
      },
      "file_extension": ".py",
      "mimetype": "text/x-python",
      "name": "python",
      "nbconvert_exporter": "python",
      "pygments_lexer": "ipython3",
      "version": "3.7.10"
    },
    "colab": {
      "name": "neural_network_clusterdataset.ipynb",
      "provenance": [],
      "collapsed_sections": []
    }
  },
  "cells": [
    {
      "cell_type": "code",
      "metadata": {
        "id": "challenging-islam"
      },
      "source": [
        "# Import libraries\n",
        "import numpy as np\n",
        "import pandas as pd\n",
        "from pandas.plotting import autocorrelation_plot\n",
        "from matplotlib import pyplot as plt\n",
        "import seaborn as sns\n",
        "import tensorflow.keras\n",
        "from tensorflow.keras.models import Sequential, load_model\n",
        "from tensorflow.keras.layers import Dense\n",
        "from sklearn.metrics import confusion_matrix, classification_report, roc_auc_score, f1_score, accuracy_score\n",
        "from sklearn.model_selection import train_test_split\n",
        "from sklearn.preprocessing import StandardScaler\n",
        "from imblearn.under_sampling import RandomUnderSampler\n",
        "from collections import Counter\n",
        "import warnings\n",
        "\n",
        "warnings.filterwarnings('ignore')\n",
        "%matplotlib inline"
      ],
      "id": "challenging-islam",
      "execution_count": 1,
      "outputs": []
    },
    {
      "cell_type": "code",
      "metadata": {
        "id": "framed-enterprise"
      },
      "source": [
        "df = pd.read_csv('https://github.com/doski-codes/bpnn-ngsim-congestion/blob/master/datasets/NGSIM_US101_congestion.csv?raw=true')"
      ],
      "id": "framed-enterprise",
      "execution_count": 2,
      "outputs": []
    },
    {
      "cell_type": "code",
      "metadata": {
        "id": "cooperative-compression",
        "colab": {
          "base_uri": "https://localhost:8080/",
          "height": 426
        },
        "outputId": "c35832a3-2fae-4a7d-c6a2-2440b288b1a5"
      },
      "source": [
        "df.head()"
      ],
      "id": "cooperative-compression",
      "execution_count": 3,
      "outputs": [
        {
          "output_type": "execute_result",
          "data": {
            "text/html": [
              "\n",
              "  <div id=\"df-9e69bc5f-4e49-459b-bca6-0f60d46d1c19\">\n",
              "    <div class=\"colab-df-container\">\n",
              "      <div>\n",
              "<style scoped>\n",
              "    .dataframe tbody tr th:only-of-type {\n",
              "        vertical-align: middle;\n",
              "    }\n",
              "\n",
              "    .dataframe tbody tr th {\n",
              "        vertical-align: top;\n",
              "    }\n",
              "\n",
              "    .dataframe thead th {\n",
              "        text-align: right;\n",
              "    }\n",
              "</style>\n",
              "<table border=\"1\" class=\"dataframe\">\n",
              "  <thead>\n",
              "    <tr style=\"text-align: right;\">\n",
              "      <th></th>\n",
              "      <th>Vehicle_ID</th>\n",
              "      <th>Frame_ID</th>\n",
              "      <th>Total_Frames</th>\n",
              "      <th>Global_Time</th>\n",
              "      <th>Local_X</th>\n",
              "      <th>Local_Y</th>\n",
              "      <th>Global_X</th>\n",
              "      <th>Global_Y</th>\n",
              "      <th>v_length</th>\n",
              "      <th>v_Width</th>\n",
              "      <th>v_Class</th>\n",
              "      <th>v_Vel</th>\n",
              "      <th>v_Acc</th>\n",
              "      <th>Lane_ID</th>\n",
              "      <th>Preceding</th>\n",
              "      <th>Following</th>\n",
              "      <th>Space_Headway</th>\n",
              "      <th>Time_Headway</th>\n",
              "      <th>Hours</th>\n",
              "      <th>Minutes</th>\n",
              "      <th>Congestion</th>\n",
              "    </tr>\n",
              "  </thead>\n",
              "  <tbody>\n",
              "    <tr>\n",
              "      <th>0</th>\n",
              "      <td>515</td>\n",
              "      <td>2330.0</td>\n",
              "      <td>1123.0</td>\n",
              "      <td>2005-06-15 08:07:55-07:00</td>\n",
              "      <td>30.034</td>\n",
              "      <td>188.062</td>\n",
              "      <td>6451203.729</td>\n",
              "      <td>1873252.549</td>\n",
              "      <td>13.0</td>\n",
              "      <td>6.9</td>\n",
              "      <td>2.0</td>\n",
              "      <td>23.31</td>\n",
              "      <td>2.05</td>\n",
              "      <td>3.0</td>\n",
              "      <td>500.0</td>\n",
              "      <td>523.0</td>\n",
              "      <td>119.10</td>\n",
              "      <td>5.11</td>\n",
              "      <td>0.333333</td>\n",
              "      <td>0.116667</td>\n",
              "      <td>0</td>\n",
              "    </tr>\n",
              "    <tr>\n",
              "      <th>1</th>\n",
              "      <td>2127</td>\n",
              "      <td>6459.0</td>\n",
              "      <td>567.0</td>\n",
              "      <td>2005-06-15 08:00:24.800000-07:00</td>\n",
              "      <td>19.632</td>\n",
              "      <td>1775.614</td>\n",
              "      <td>6452425.122</td>\n",
              "      <td>1872172.475</td>\n",
              "      <td>13.5</td>\n",
              "      <td>6.9</td>\n",
              "      <td>2.0</td>\n",
              "      <td>37.52</td>\n",
              "      <td>11.20</td>\n",
              "      <td>2.0</td>\n",
              "      <td>2124.0</td>\n",
              "      <td>2132.0</td>\n",
              "      <td>48.92</td>\n",
              "      <td>1.30</td>\n",
              "      <td>0.333333</td>\n",
              "      <td>0.000000</td>\n",
              "      <td>0</td>\n",
              "    </tr>\n",
              "    <tr>\n",
              "      <th>2</th>\n",
              "      <td>1033</td>\n",
              "      <td>4827.0</td>\n",
              "      <td>592.0</td>\n",
              "      <td>2005-06-15 08:12:04.700000-07:00</td>\n",
              "      <td>6.202</td>\n",
              "      <td>1701.144</td>\n",
              "      <td>6452347.673</td>\n",
              "      <td>1872258.452</td>\n",
              "      <td>13.5</td>\n",
              "      <td>4.4</td>\n",
              "      <td>2.0</td>\n",
              "      <td>41.99</td>\n",
              "      <td>0.10</td>\n",
              "      <td>1.0</td>\n",
              "      <td>1029.0</td>\n",
              "      <td>1040.0</td>\n",
              "      <td>38.81</td>\n",
              "      <td>0.92</td>\n",
              "      <td>0.333333</td>\n",
              "      <td>0.200000</td>\n",
              "      <td>0</td>\n",
              "    </tr>\n",
              "    <tr>\n",
              "      <th>3</th>\n",
              "      <td>1890</td>\n",
              "      <td>9157.0</td>\n",
              "      <td>628.0</td>\n",
              "      <td>2005-06-15 08:34:32.700000-07:00</td>\n",
              "      <td>53.514</td>\n",
              "      <td>817.521</td>\n",
              "      <td>6451655.238</td>\n",
              "      <td>1872800.663</td>\n",
              "      <td>24.0</td>\n",
              "      <td>8.5</td>\n",
              "      <td>3.0</td>\n",
              "      <td>45.12</td>\n",
              "      <td>-0.55</td>\n",
              "      <td>5.0</td>\n",
              "      <td>1882.0</td>\n",
              "      <td>1897.0</td>\n",
              "      <td>102.65</td>\n",
              "      <td>2.27</td>\n",
              "      <td>0.333333</td>\n",
              "      <td>0.566667</td>\n",
              "      <td>0</td>\n",
              "    </tr>\n",
              "    <tr>\n",
              "      <th>4</th>\n",
              "      <td>744</td>\n",
              "      <td>3392.0</td>\n",
              "      <td>996.0</td>\n",
              "      <td>2005-06-15 08:09:41.200000-07:00</td>\n",
              "      <td>28.878</td>\n",
              "      <td>490.086</td>\n",
              "      <td>6451422.353</td>\n",
              "      <td>1873041.018</td>\n",
              "      <td>15.0</td>\n",
              "      <td>5.9</td>\n",
              "      <td>2.0</td>\n",
              "      <td>24.54</td>\n",
              "      <td>-0.04</td>\n",
              "      <td>3.0</td>\n",
              "      <td>740.0</td>\n",
              "      <td>752.0</td>\n",
              "      <td>37.80</td>\n",
              "      <td>1.54</td>\n",
              "      <td>0.333333</td>\n",
              "      <td>0.150000</td>\n",
              "      <td>0</td>\n",
              "    </tr>\n",
              "  </tbody>\n",
              "</table>\n",
              "</div>\n",
              "      <button class=\"colab-df-convert\" onclick=\"convertToInteractive('df-9e69bc5f-4e49-459b-bca6-0f60d46d1c19')\"\n",
              "              title=\"Convert this dataframe to an interactive table.\"\n",
              "              style=\"display:none;\">\n",
              "        \n",
              "  <svg xmlns=\"http://www.w3.org/2000/svg\" height=\"24px\"viewBox=\"0 0 24 24\"\n",
              "       width=\"24px\">\n",
              "    <path d=\"M0 0h24v24H0V0z\" fill=\"none\"/>\n",
              "    <path d=\"M18.56 5.44l.94 2.06.94-2.06 2.06-.94-2.06-.94-.94-2.06-.94 2.06-2.06.94zm-11 1L8.5 8.5l.94-2.06 2.06-.94-2.06-.94L8.5 2.5l-.94 2.06-2.06.94zm10 10l.94 2.06.94-2.06 2.06-.94-2.06-.94-.94-2.06-.94 2.06-2.06.94z\"/><path d=\"M17.41 7.96l-1.37-1.37c-.4-.4-.92-.59-1.43-.59-.52 0-1.04.2-1.43.59L10.3 9.45l-7.72 7.72c-.78.78-.78 2.05 0 2.83L4 21.41c.39.39.9.59 1.41.59.51 0 1.02-.2 1.41-.59l7.78-7.78 2.81-2.81c.8-.78.8-2.07 0-2.86zM5.41 20L4 18.59l7.72-7.72 1.47 1.35L5.41 20z\"/>\n",
              "  </svg>\n",
              "      </button>\n",
              "      \n",
              "  <style>\n",
              "    .colab-df-container {\n",
              "      display:flex;\n",
              "      flex-wrap:wrap;\n",
              "      gap: 12px;\n",
              "    }\n",
              "\n",
              "    .colab-df-convert {\n",
              "      background-color: #E8F0FE;\n",
              "      border: none;\n",
              "      border-radius: 50%;\n",
              "      cursor: pointer;\n",
              "      display: none;\n",
              "      fill: #1967D2;\n",
              "      height: 32px;\n",
              "      padding: 0 0 0 0;\n",
              "      width: 32px;\n",
              "    }\n",
              "\n",
              "    .colab-df-convert:hover {\n",
              "      background-color: #E2EBFA;\n",
              "      box-shadow: 0px 1px 2px rgba(60, 64, 67, 0.3), 0px 1px 3px 1px rgba(60, 64, 67, 0.15);\n",
              "      fill: #174EA6;\n",
              "    }\n",
              "\n",
              "    [theme=dark] .colab-df-convert {\n",
              "      background-color: #3B4455;\n",
              "      fill: #D2E3FC;\n",
              "    }\n",
              "\n",
              "    [theme=dark] .colab-df-convert:hover {\n",
              "      background-color: #434B5C;\n",
              "      box-shadow: 0px 1px 3px 1px rgba(0, 0, 0, 0.15);\n",
              "      filter: drop-shadow(0px 1px 2px rgba(0, 0, 0, 0.3));\n",
              "      fill: #FFFFFF;\n",
              "    }\n",
              "  </style>\n",
              "\n",
              "      <script>\n",
              "        const buttonEl =\n",
              "          document.querySelector('#df-9e69bc5f-4e49-459b-bca6-0f60d46d1c19 button.colab-df-convert');\n",
              "        buttonEl.style.display =\n",
              "          google.colab.kernel.accessAllowed ? 'block' : 'none';\n",
              "\n",
              "        async function convertToInteractive(key) {\n",
              "          const element = document.querySelector('#df-9e69bc5f-4e49-459b-bca6-0f60d46d1c19');\n",
              "          const dataTable =\n",
              "            await google.colab.kernel.invokeFunction('convertToInteractive',\n",
              "                                                     [key], {});\n",
              "          if (!dataTable) return;\n",
              "\n",
              "          const docLinkHtml = 'Like what you see? Visit the ' +\n",
              "            '<a target=\"_blank\" href=https://colab.research.google.com/notebooks/data_table.ipynb>data table notebook</a>'\n",
              "            + ' to learn more about interactive tables.';\n",
              "          element.innerHTML = '';\n",
              "          dataTable['output_type'] = 'display_data';\n",
              "          await google.colab.output.renderOutput(dataTable, element);\n",
              "          const docLink = document.createElement('div');\n",
              "          docLink.innerHTML = docLinkHtml;\n",
              "          element.appendChild(docLink);\n",
              "        }\n",
              "      </script>\n",
              "    </div>\n",
              "  </div>\n",
              "  "
            ],
            "text/plain": [
              "   Vehicle_ID  Frame_ID  Total_Frames  ...     Hours   Minutes  Congestion\n",
              "0         515    2330.0        1123.0  ...  0.333333  0.116667           0\n",
              "1        2127    6459.0         567.0  ...  0.333333  0.000000           0\n",
              "2        1033    4827.0         592.0  ...  0.333333  0.200000           0\n",
              "3        1890    9157.0         628.0  ...  0.333333  0.566667           0\n",
              "4         744    3392.0         996.0  ...  0.333333  0.150000           0\n",
              "\n",
              "[5 rows x 21 columns]"
            ]
          },
          "metadata": {},
          "execution_count": 3
        }
      ]
    },
    {
      "cell_type": "code",
      "metadata": {
        "id": "legendary-interaction",
        "colab": {
          "base_uri": "https://localhost:8080/"
        },
        "outputId": "3ba0bbfe-2e03-4699-ad72-db27e156428a"
      },
      "source": [
        "df.columns"
      ],
      "id": "legendary-interaction",
      "execution_count": 4,
      "outputs": [
        {
          "output_type": "execute_result",
          "data": {
            "text/plain": [
              "Index(['Vehicle_ID', 'Frame_ID', 'Total_Frames', 'Global_Time', 'Local_X',\n",
              "       'Local_Y', 'Global_X', 'Global_Y', 'v_length', 'v_Width', 'v_Class',\n",
              "       'v_Vel', 'v_Acc', 'Lane_ID', 'Preceding', 'Following', 'Space_Headway',\n",
              "       'Time_Headway', 'Hours', 'Minutes', 'Congestion'],\n",
              "      dtype='object')"
            ]
          },
          "metadata": {},
          "execution_count": 4
        }
      ]
    },
    {
      "cell_type": "code",
      "metadata": {
        "id": "confident-robinson",
        "colab": {
          "base_uri": "https://localhost:8080/"
        },
        "outputId": "d891f9c8-c6b0-4b99-c820-373f5cae0056"
      },
      "source": [
        "df.duplicated().sum()"
      ],
      "id": "confident-robinson",
      "execution_count": 5,
      "outputs": [
        {
          "output_type": "execute_result",
          "data": {
            "text/plain": [
              "0"
            ]
          },
          "metadata": {},
          "execution_count": 5
        }
      ]
    },
    {
      "cell_type": "code",
      "metadata": {
        "id": "executed-street"
      },
      "source": [
        "df.drop_duplicates(inplace=True)"
      ],
      "id": "executed-street",
      "execution_count": 6,
      "outputs": []
    },
    {
      "cell_type": "code",
      "metadata": {
        "id": "moved-possession",
        "colab": {
          "base_uri": "https://localhost:8080/"
        },
        "outputId": "8f0575c1-60eb-47e5-a612-f6a04718406c"
      },
      "source": [
        "df.info()"
      ],
      "id": "moved-possession",
      "execution_count": 7,
      "outputs": [
        {
          "output_type": "stream",
          "name": "stdout",
          "text": [
            "<class 'pandas.core.frame.DataFrame'>\n",
            "Int64Index: 455846 entries, 0 to 455845\n",
            "Data columns (total 21 columns):\n",
            " #   Column         Non-Null Count   Dtype  \n",
            "---  ------         --------------   -----  \n",
            " 0   Vehicle_ID     455846 non-null  int64  \n",
            " 1   Frame_ID       455846 non-null  float64\n",
            " 2   Total_Frames   455846 non-null  float64\n",
            " 3   Global_Time    455846 non-null  object \n",
            " 4   Local_X        455846 non-null  float64\n",
            " 5   Local_Y        455846 non-null  float64\n",
            " 6   Global_X       455846 non-null  float64\n",
            " 7   Global_Y       455846 non-null  float64\n",
            " 8   v_length       455846 non-null  float64\n",
            " 9   v_Width        455846 non-null  float64\n",
            " 10  v_Class        455846 non-null  float64\n",
            " 11  v_Vel          455846 non-null  float64\n",
            " 12  v_Acc          455846 non-null  float64\n",
            " 13  Lane_ID        455846 non-null  float64\n",
            " 14  Preceding      455846 non-null  float64\n",
            " 15  Following      455846 non-null  float64\n",
            " 16  Space_Headway  455846 non-null  float64\n",
            " 17  Time_Headway   455846 non-null  float64\n",
            " 18  Hours          455846 non-null  float64\n",
            " 19  Minutes        455846 non-null  float64\n",
            " 20  Congestion     455846 non-null  int64  \n",
            "dtypes: float64(18), int64(2), object(1)\n",
            "memory usage: 76.5+ MB\n"
          ]
        }
      ]
    },
    {
      "cell_type": "markdown",
      "metadata": {
        "id": "cardiovascular-korean"
      },
      "source": [
        "# Exploratory Data Analysis\n",
        "\n",
        "#### Handling Data Columns\n",
        "Most of the columns contain data: \n",
        "- are not necessary for prediction  \n",
        "- would create a bias in our prediction model\n",
        "- would make it impossible to use the model in real time\n",
        "\n",
        "#### Data Categories\n",
        "Plotting graphs or counting categories in various columns to see the distribution of the data\n",
        "\n",
        "#### Graphs\n",
        "- Plotting graphs to see the behaviour of the data by time (Time Series).\n",
        "- Correlation heat map to see the correlation between the variables"
      ],
      "id": "cardiovascular-korean"
    },
    {
      "cell_type": "code",
      "metadata": {
        "id": "atomic-solid"
      },
      "source": [
        "df.drop(['Local_X', 'Local_Y', 'Global_X', 'Global_Y', 'Vehicle_ID', 'Frame_ID', 'Total_Frames',\n",
        "        'Preceding', 'Following', 'Space_Headway', 'Time_Headway', 'Hours', 'Minutes'], axis=1, inplace=True)\n",
        "df.reset_index(drop=True, inplace=True)"
      ],
      "id": "atomic-solid",
      "execution_count": 8,
      "outputs": []
    },
    {
      "cell_type": "code",
      "metadata": {
        "id": "constant-pocket",
        "colab": {
          "base_uri": "https://localhost:8080/",
          "height": 206
        },
        "outputId": "a8c21da8-6bba-48ce-e151-3bba85fc1e76"
      },
      "source": [
        "df.head()"
      ],
      "id": "constant-pocket",
      "execution_count": 9,
      "outputs": [
        {
          "output_type": "execute_result",
          "data": {
            "text/html": [
              "\n",
              "  <div id=\"df-78fbaa46-d488-4cca-994b-ff59ff102315\">\n",
              "    <div class=\"colab-df-container\">\n",
              "      <div>\n",
              "<style scoped>\n",
              "    .dataframe tbody tr th:only-of-type {\n",
              "        vertical-align: middle;\n",
              "    }\n",
              "\n",
              "    .dataframe tbody tr th {\n",
              "        vertical-align: top;\n",
              "    }\n",
              "\n",
              "    .dataframe thead th {\n",
              "        text-align: right;\n",
              "    }\n",
              "</style>\n",
              "<table border=\"1\" class=\"dataframe\">\n",
              "  <thead>\n",
              "    <tr style=\"text-align: right;\">\n",
              "      <th></th>\n",
              "      <th>Global_Time</th>\n",
              "      <th>v_length</th>\n",
              "      <th>v_Width</th>\n",
              "      <th>v_Class</th>\n",
              "      <th>v_Vel</th>\n",
              "      <th>v_Acc</th>\n",
              "      <th>Lane_ID</th>\n",
              "      <th>Congestion</th>\n",
              "    </tr>\n",
              "  </thead>\n",
              "  <tbody>\n",
              "    <tr>\n",
              "      <th>0</th>\n",
              "      <td>2005-06-15 08:07:55-07:00</td>\n",
              "      <td>13.0</td>\n",
              "      <td>6.9</td>\n",
              "      <td>2.0</td>\n",
              "      <td>23.31</td>\n",
              "      <td>2.05</td>\n",
              "      <td>3.0</td>\n",
              "      <td>0</td>\n",
              "    </tr>\n",
              "    <tr>\n",
              "      <th>1</th>\n",
              "      <td>2005-06-15 08:00:24.800000-07:00</td>\n",
              "      <td>13.5</td>\n",
              "      <td>6.9</td>\n",
              "      <td>2.0</td>\n",
              "      <td>37.52</td>\n",
              "      <td>11.20</td>\n",
              "      <td>2.0</td>\n",
              "      <td>0</td>\n",
              "    </tr>\n",
              "    <tr>\n",
              "      <th>2</th>\n",
              "      <td>2005-06-15 08:12:04.700000-07:00</td>\n",
              "      <td>13.5</td>\n",
              "      <td>4.4</td>\n",
              "      <td>2.0</td>\n",
              "      <td>41.99</td>\n",
              "      <td>0.10</td>\n",
              "      <td>1.0</td>\n",
              "      <td>0</td>\n",
              "    </tr>\n",
              "    <tr>\n",
              "      <th>3</th>\n",
              "      <td>2005-06-15 08:34:32.700000-07:00</td>\n",
              "      <td>24.0</td>\n",
              "      <td>8.5</td>\n",
              "      <td>3.0</td>\n",
              "      <td>45.12</td>\n",
              "      <td>-0.55</td>\n",
              "      <td>5.0</td>\n",
              "      <td>0</td>\n",
              "    </tr>\n",
              "    <tr>\n",
              "      <th>4</th>\n",
              "      <td>2005-06-15 08:09:41.200000-07:00</td>\n",
              "      <td>15.0</td>\n",
              "      <td>5.9</td>\n",
              "      <td>2.0</td>\n",
              "      <td>24.54</td>\n",
              "      <td>-0.04</td>\n",
              "      <td>3.0</td>\n",
              "      <td>0</td>\n",
              "    </tr>\n",
              "  </tbody>\n",
              "</table>\n",
              "</div>\n",
              "      <button class=\"colab-df-convert\" onclick=\"convertToInteractive('df-78fbaa46-d488-4cca-994b-ff59ff102315')\"\n",
              "              title=\"Convert this dataframe to an interactive table.\"\n",
              "              style=\"display:none;\">\n",
              "        \n",
              "  <svg xmlns=\"http://www.w3.org/2000/svg\" height=\"24px\"viewBox=\"0 0 24 24\"\n",
              "       width=\"24px\">\n",
              "    <path d=\"M0 0h24v24H0V0z\" fill=\"none\"/>\n",
              "    <path d=\"M18.56 5.44l.94 2.06.94-2.06 2.06-.94-2.06-.94-.94-2.06-.94 2.06-2.06.94zm-11 1L8.5 8.5l.94-2.06 2.06-.94-2.06-.94L8.5 2.5l-.94 2.06-2.06.94zm10 10l.94 2.06.94-2.06 2.06-.94-2.06-.94-.94-2.06-.94 2.06-2.06.94z\"/><path d=\"M17.41 7.96l-1.37-1.37c-.4-.4-.92-.59-1.43-.59-.52 0-1.04.2-1.43.59L10.3 9.45l-7.72 7.72c-.78.78-.78 2.05 0 2.83L4 21.41c.39.39.9.59 1.41.59.51 0 1.02-.2 1.41-.59l7.78-7.78 2.81-2.81c.8-.78.8-2.07 0-2.86zM5.41 20L4 18.59l7.72-7.72 1.47 1.35L5.41 20z\"/>\n",
              "  </svg>\n",
              "      </button>\n",
              "      \n",
              "  <style>\n",
              "    .colab-df-container {\n",
              "      display:flex;\n",
              "      flex-wrap:wrap;\n",
              "      gap: 12px;\n",
              "    }\n",
              "\n",
              "    .colab-df-convert {\n",
              "      background-color: #E8F0FE;\n",
              "      border: none;\n",
              "      border-radius: 50%;\n",
              "      cursor: pointer;\n",
              "      display: none;\n",
              "      fill: #1967D2;\n",
              "      height: 32px;\n",
              "      padding: 0 0 0 0;\n",
              "      width: 32px;\n",
              "    }\n",
              "\n",
              "    .colab-df-convert:hover {\n",
              "      background-color: #E2EBFA;\n",
              "      box-shadow: 0px 1px 2px rgba(60, 64, 67, 0.3), 0px 1px 3px 1px rgba(60, 64, 67, 0.15);\n",
              "      fill: #174EA6;\n",
              "    }\n",
              "\n",
              "    [theme=dark] .colab-df-convert {\n",
              "      background-color: #3B4455;\n",
              "      fill: #D2E3FC;\n",
              "    }\n",
              "\n",
              "    [theme=dark] .colab-df-convert:hover {\n",
              "      background-color: #434B5C;\n",
              "      box-shadow: 0px 1px 3px 1px rgba(0, 0, 0, 0.15);\n",
              "      filter: drop-shadow(0px 1px 2px rgba(0, 0, 0, 0.3));\n",
              "      fill: #FFFFFF;\n",
              "    }\n",
              "  </style>\n",
              "\n",
              "      <script>\n",
              "        const buttonEl =\n",
              "          document.querySelector('#df-78fbaa46-d488-4cca-994b-ff59ff102315 button.colab-df-convert');\n",
              "        buttonEl.style.display =\n",
              "          google.colab.kernel.accessAllowed ? 'block' : 'none';\n",
              "\n",
              "        async function convertToInteractive(key) {\n",
              "          const element = document.querySelector('#df-78fbaa46-d488-4cca-994b-ff59ff102315');\n",
              "          const dataTable =\n",
              "            await google.colab.kernel.invokeFunction('convertToInteractive',\n",
              "                                                     [key], {});\n",
              "          if (!dataTable) return;\n",
              "\n",
              "          const docLinkHtml = 'Like what you see? Visit the ' +\n",
              "            '<a target=\"_blank\" href=https://colab.research.google.com/notebooks/data_table.ipynb>data table notebook</a>'\n",
              "            + ' to learn more about interactive tables.';\n",
              "          element.innerHTML = '';\n",
              "          dataTable['output_type'] = 'display_data';\n",
              "          await google.colab.output.renderOutput(dataTable, element);\n",
              "          const docLink = document.createElement('div');\n",
              "          docLink.innerHTML = docLinkHtml;\n",
              "          element.appendChild(docLink);\n",
              "        }\n",
              "      </script>\n",
              "    </div>\n",
              "  </div>\n",
              "  "
            ],
            "text/plain": [
              "                        Global_Time  v_length  ...  Lane_ID  Congestion\n",
              "0         2005-06-15 08:07:55-07:00      13.0  ...      3.0           0\n",
              "1  2005-06-15 08:00:24.800000-07:00      13.5  ...      2.0           0\n",
              "2  2005-06-15 08:12:04.700000-07:00      13.5  ...      1.0           0\n",
              "3  2005-06-15 08:34:32.700000-07:00      24.0  ...      5.0           0\n",
              "4  2005-06-15 08:09:41.200000-07:00      15.0  ...      3.0           0\n",
              "\n",
              "[5 rows x 8 columns]"
            ]
          },
          "metadata": {},
          "execution_count": 9
        }
      ]
    },
    {
      "cell_type": "code",
      "metadata": {
        "id": "essential-vienna",
        "colab": {
          "base_uri": "https://localhost:8080/"
        },
        "outputId": "2c26ff4c-6f9e-4f5e-9b87-28a4f81d84cd"
      },
      "source": [
        "df.info()"
      ],
      "id": "essential-vienna",
      "execution_count": 10,
      "outputs": [
        {
          "output_type": "stream",
          "name": "stdout",
          "text": [
            "<class 'pandas.core.frame.DataFrame'>\n",
            "RangeIndex: 455846 entries, 0 to 455845\n",
            "Data columns (total 8 columns):\n",
            " #   Column       Non-Null Count   Dtype  \n",
            "---  ------       --------------   -----  \n",
            " 0   Global_Time  455846 non-null  object \n",
            " 1   v_length     455846 non-null  float64\n",
            " 2   v_Width      455846 non-null  float64\n",
            " 3   v_Class      455846 non-null  float64\n",
            " 4   v_Vel        455846 non-null  float64\n",
            " 5   v_Acc        455846 non-null  float64\n",
            " 6   Lane_ID      455846 non-null  float64\n",
            " 7   Congestion   455846 non-null  int64  \n",
            "dtypes: float64(6), int64(1), object(1)\n",
            "memory usage: 27.8+ MB\n"
          ]
        }
      ]
    },
    {
      "cell_type": "code",
      "metadata": {
        "id": "endless-newman"
      },
      "source": [
        "# Convert data types\n",
        "df['Global_Time'] = pd.to_datetime(df['Global_Time']).dt.tz_convert('US/Pacific')"
      ],
      "id": "endless-newman",
      "execution_count": 11,
      "outputs": []
    },
    {
      "cell_type": "code",
      "metadata": {
        "id": "extreme-engineering",
        "colab": {
          "base_uri": "https://localhost:8080/",
          "height": 206
        },
        "outputId": "dbb64a7f-72a2-4e67-8c4a-fd11a73efc79"
      },
      "source": [
        "df.head()"
      ],
      "id": "extreme-engineering",
      "execution_count": 12,
      "outputs": [
        {
          "output_type": "execute_result",
          "data": {
            "text/html": [
              "\n",
              "  <div id=\"df-eb54c895-6435-4f8d-aefe-ce28f3085e0f\">\n",
              "    <div class=\"colab-df-container\">\n",
              "      <div>\n",
              "<style scoped>\n",
              "    .dataframe tbody tr th:only-of-type {\n",
              "        vertical-align: middle;\n",
              "    }\n",
              "\n",
              "    .dataframe tbody tr th {\n",
              "        vertical-align: top;\n",
              "    }\n",
              "\n",
              "    .dataframe thead th {\n",
              "        text-align: right;\n",
              "    }\n",
              "</style>\n",
              "<table border=\"1\" class=\"dataframe\">\n",
              "  <thead>\n",
              "    <tr style=\"text-align: right;\">\n",
              "      <th></th>\n",
              "      <th>Global_Time</th>\n",
              "      <th>v_length</th>\n",
              "      <th>v_Width</th>\n",
              "      <th>v_Class</th>\n",
              "      <th>v_Vel</th>\n",
              "      <th>v_Acc</th>\n",
              "      <th>Lane_ID</th>\n",
              "      <th>Congestion</th>\n",
              "    </tr>\n",
              "  </thead>\n",
              "  <tbody>\n",
              "    <tr>\n",
              "      <th>0</th>\n",
              "      <td>2005-06-15 08:07:55-07:00</td>\n",
              "      <td>13.0</td>\n",
              "      <td>6.9</td>\n",
              "      <td>2.0</td>\n",
              "      <td>23.31</td>\n",
              "      <td>2.05</td>\n",
              "      <td>3.0</td>\n",
              "      <td>0</td>\n",
              "    </tr>\n",
              "    <tr>\n",
              "      <th>1</th>\n",
              "      <td>2005-06-15 08:00:24.800000-07:00</td>\n",
              "      <td>13.5</td>\n",
              "      <td>6.9</td>\n",
              "      <td>2.0</td>\n",
              "      <td>37.52</td>\n",
              "      <td>11.20</td>\n",
              "      <td>2.0</td>\n",
              "      <td>0</td>\n",
              "    </tr>\n",
              "    <tr>\n",
              "      <th>2</th>\n",
              "      <td>2005-06-15 08:12:04.700000-07:00</td>\n",
              "      <td>13.5</td>\n",
              "      <td>4.4</td>\n",
              "      <td>2.0</td>\n",
              "      <td>41.99</td>\n",
              "      <td>0.10</td>\n",
              "      <td>1.0</td>\n",
              "      <td>0</td>\n",
              "    </tr>\n",
              "    <tr>\n",
              "      <th>3</th>\n",
              "      <td>2005-06-15 08:34:32.700000-07:00</td>\n",
              "      <td>24.0</td>\n",
              "      <td>8.5</td>\n",
              "      <td>3.0</td>\n",
              "      <td>45.12</td>\n",
              "      <td>-0.55</td>\n",
              "      <td>5.0</td>\n",
              "      <td>0</td>\n",
              "    </tr>\n",
              "    <tr>\n",
              "      <th>4</th>\n",
              "      <td>2005-06-15 08:09:41.200000-07:00</td>\n",
              "      <td>15.0</td>\n",
              "      <td>5.9</td>\n",
              "      <td>2.0</td>\n",
              "      <td>24.54</td>\n",
              "      <td>-0.04</td>\n",
              "      <td>3.0</td>\n",
              "      <td>0</td>\n",
              "    </tr>\n",
              "  </tbody>\n",
              "</table>\n",
              "</div>\n",
              "      <button class=\"colab-df-convert\" onclick=\"convertToInteractive('df-eb54c895-6435-4f8d-aefe-ce28f3085e0f')\"\n",
              "              title=\"Convert this dataframe to an interactive table.\"\n",
              "              style=\"display:none;\">\n",
              "        \n",
              "  <svg xmlns=\"http://www.w3.org/2000/svg\" height=\"24px\"viewBox=\"0 0 24 24\"\n",
              "       width=\"24px\">\n",
              "    <path d=\"M0 0h24v24H0V0z\" fill=\"none\"/>\n",
              "    <path d=\"M18.56 5.44l.94 2.06.94-2.06 2.06-.94-2.06-.94-.94-2.06-.94 2.06-2.06.94zm-11 1L8.5 8.5l.94-2.06 2.06-.94-2.06-.94L8.5 2.5l-.94 2.06-2.06.94zm10 10l.94 2.06.94-2.06 2.06-.94-2.06-.94-.94-2.06-.94 2.06-2.06.94z\"/><path d=\"M17.41 7.96l-1.37-1.37c-.4-.4-.92-.59-1.43-.59-.52 0-1.04.2-1.43.59L10.3 9.45l-7.72 7.72c-.78.78-.78 2.05 0 2.83L4 21.41c.39.39.9.59 1.41.59.51 0 1.02-.2 1.41-.59l7.78-7.78 2.81-2.81c.8-.78.8-2.07 0-2.86zM5.41 20L4 18.59l7.72-7.72 1.47 1.35L5.41 20z\"/>\n",
              "  </svg>\n",
              "      </button>\n",
              "      \n",
              "  <style>\n",
              "    .colab-df-container {\n",
              "      display:flex;\n",
              "      flex-wrap:wrap;\n",
              "      gap: 12px;\n",
              "    }\n",
              "\n",
              "    .colab-df-convert {\n",
              "      background-color: #E8F0FE;\n",
              "      border: none;\n",
              "      border-radius: 50%;\n",
              "      cursor: pointer;\n",
              "      display: none;\n",
              "      fill: #1967D2;\n",
              "      height: 32px;\n",
              "      padding: 0 0 0 0;\n",
              "      width: 32px;\n",
              "    }\n",
              "\n",
              "    .colab-df-convert:hover {\n",
              "      background-color: #E2EBFA;\n",
              "      box-shadow: 0px 1px 2px rgba(60, 64, 67, 0.3), 0px 1px 3px 1px rgba(60, 64, 67, 0.15);\n",
              "      fill: #174EA6;\n",
              "    }\n",
              "\n",
              "    [theme=dark] .colab-df-convert {\n",
              "      background-color: #3B4455;\n",
              "      fill: #D2E3FC;\n",
              "    }\n",
              "\n",
              "    [theme=dark] .colab-df-convert:hover {\n",
              "      background-color: #434B5C;\n",
              "      box-shadow: 0px 1px 3px 1px rgba(0, 0, 0, 0.15);\n",
              "      filter: drop-shadow(0px 1px 2px rgba(0, 0, 0, 0.3));\n",
              "      fill: #FFFFFF;\n",
              "    }\n",
              "  </style>\n",
              "\n",
              "      <script>\n",
              "        const buttonEl =\n",
              "          document.querySelector('#df-eb54c895-6435-4f8d-aefe-ce28f3085e0f button.colab-df-convert');\n",
              "        buttonEl.style.display =\n",
              "          google.colab.kernel.accessAllowed ? 'block' : 'none';\n",
              "\n",
              "        async function convertToInteractive(key) {\n",
              "          const element = document.querySelector('#df-eb54c895-6435-4f8d-aefe-ce28f3085e0f');\n",
              "          const dataTable =\n",
              "            await google.colab.kernel.invokeFunction('convertToInteractive',\n",
              "                                                     [key], {});\n",
              "          if (!dataTable) return;\n",
              "\n",
              "          const docLinkHtml = 'Like what you see? Visit the ' +\n",
              "            '<a target=\"_blank\" href=https://colab.research.google.com/notebooks/data_table.ipynb>data table notebook</a>'\n",
              "            + ' to learn more about interactive tables.';\n",
              "          element.innerHTML = '';\n",
              "          dataTable['output_type'] = 'display_data';\n",
              "          await google.colab.output.renderOutput(dataTable, element);\n",
              "          const docLink = document.createElement('div');\n",
              "          docLink.innerHTML = docLinkHtml;\n",
              "          element.appendChild(docLink);\n",
              "        }\n",
              "      </script>\n",
              "    </div>\n",
              "  </div>\n",
              "  "
            ],
            "text/plain": [
              "                       Global_Time  v_length  ...  Lane_ID  Congestion\n",
              "0        2005-06-15 08:07:55-07:00      13.0  ...      3.0           0\n",
              "1 2005-06-15 08:00:24.800000-07:00      13.5  ...      2.0           0\n",
              "2 2005-06-15 08:12:04.700000-07:00      13.5  ...      1.0           0\n",
              "3 2005-06-15 08:34:32.700000-07:00      24.0  ...      5.0           0\n",
              "4 2005-06-15 08:09:41.200000-07:00      15.0  ...      3.0           0\n",
              "\n",
              "[5 rows x 8 columns]"
            ]
          },
          "metadata": {},
          "execution_count": 12
        }
      ]
    },
    {
      "cell_type": "code",
      "metadata": {
        "id": "ranking-recognition"
      },
      "source": [
        "# Extract time features\n",
        "df['Time_Hour'] = df['Global_Time'].dt.hour\n",
        "df['Time_Minute'] = df['Global_Time'].dt.minute\n",
        "df['Time_Second'] = df['Global_Time'].dt.second\n",
        "df['Time'] = df['Global_Time'].dt.strftime('%H:%M:%S')"
      ],
      "id": "ranking-recognition",
      "execution_count": 13,
      "outputs": []
    },
    {
      "cell_type": "code",
      "metadata": {
        "id": "psychological-contest",
        "colab": {
          "base_uri": "https://localhost:8080/",
          "height": 206
        },
        "outputId": "8ce3f27f-4b63-40e8-de60-4a996c5626f3"
      },
      "source": [
        "df.head()"
      ],
      "id": "psychological-contest",
      "execution_count": 14,
      "outputs": [
        {
          "output_type": "execute_result",
          "data": {
            "text/html": [
              "\n",
              "  <div id=\"df-2bc0da8d-fca1-4f1d-98dd-655d2daee73a\">\n",
              "    <div class=\"colab-df-container\">\n",
              "      <div>\n",
              "<style scoped>\n",
              "    .dataframe tbody tr th:only-of-type {\n",
              "        vertical-align: middle;\n",
              "    }\n",
              "\n",
              "    .dataframe tbody tr th {\n",
              "        vertical-align: top;\n",
              "    }\n",
              "\n",
              "    .dataframe thead th {\n",
              "        text-align: right;\n",
              "    }\n",
              "</style>\n",
              "<table border=\"1\" class=\"dataframe\">\n",
              "  <thead>\n",
              "    <tr style=\"text-align: right;\">\n",
              "      <th></th>\n",
              "      <th>Global_Time</th>\n",
              "      <th>v_length</th>\n",
              "      <th>v_Width</th>\n",
              "      <th>v_Class</th>\n",
              "      <th>v_Vel</th>\n",
              "      <th>v_Acc</th>\n",
              "      <th>Lane_ID</th>\n",
              "      <th>Congestion</th>\n",
              "      <th>Time_Hour</th>\n",
              "      <th>Time_Minute</th>\n",
              "      <th>Time_Second</th>\n",
              "      <th>Time</th>\n",
              "    </tr>\n",
              "  </thead>\n",
              "  <tbody>\n",
              "    <tr>\n",
              "      <th>0</th>\n",
              "      <td>2005-06-15 08:07:55-07:00</td>\n",
              "      <td>13.0</td>\n",
              "      <td>6.9</td>\n",
              "      <td>2.0</td>\n",
              "      <td>23.31</td>\n",
              "      <td>2.05</td>\n",
              "      <td>3.0</td>\n",
              "      <td>0</td>\n",
              "      <td>8</td>\n",
              "      <td>7</td>\n",
              "      <td>55</td>\n",
              "      <td>08:07:55</td>\n",
              "    </tr>\n",
              "    <tr>\n",
              "      <th>1</th>\n",
              "      <td>2005-06-15 08:00:24.800000-07:00</td>\n",
              "      <td>13.5</td>\n",
              "      <td>6.9</td>\n",
              "      <td>2.0</td>\n",
              "      <td>37.52</td>\n",
              "      <td>11.20</td>\n",
              "      <td>2.0</td>\n",
              "      <td>0</td>\n",
              "      <td>8</td>\n",
              "      <td>0</td>\n",
              "      <td>24</td>\n",
              "      <td>08:00:24</td>\n",
              "    </tr>\n",
              "    <tr>\n",
              "      <th>2</th>\n",
              "      <td>2005-06-15 08:12:04.700000-07:00</td>\n",
              "      <td>13.5</td>\n",
              "      <td>4.4</td>\n",
              "      <td>2.0</td>\n",
              "      <td>41.99</td>\n",
              "      <td>0.10</td>\n",
              "      <td>1.0</td>\n",
              "      <td>0</td>\n",
              "      <td>8</td>\n",
              "      <td>12</td>\n",
              "      <td>4</td>\n",
              "      <td>08:12:04</td>\n",
              "    </tr>\n",
              "    <tr>\n",
              "      <th>3</th>\n",
              "      <td>2005-06-15 08:34:32.700000-07:00</td>\n",
              "      <td>24.0</td>\n",
              "      <td>8.5</td>\n",
              "      <td>3.0</td>\n",
              "      <td>45.12</td>\n",
              "      <td>-0.55</td>\n",
              "      <td>5.0</td>\n",
              "      <td>0</td>\n",
              "      <td>8</td>\n",
              "      <td>34</td>\n",
              "      <td>32</td>\n",
              "      <td>08:34:32</td>\n",
              "    </tr>\n",
              "    <tr>\n",
              "      <th>4</th>\n",
              "      <td>2005-06-15 08:09:41.200000-07:00</td>\n",
              "      <td>15.0</td>\n",
              "      <td>5.9</td>\n",
              "      <td>2.0</td>\n",
              "      <td>24.54</td>\n",
              "      <td>-0.04</td>\n",
              "      <td>3.0</td>\n",
              "      <td>0</td>\n",
              "      <td>8</td>\n",
              "      <td>9</td>\n",
              "      <td>41</td>\n",
              "      <td>08:09:41</td>\n",
              "    </tr>\n",
              "  </tbody>\n",
              "</table>\n",
              "</div>\n",
              "      <button class=\"colab-df-convert\" onclick=\"convertToInteractive('df-2bc0da8d-fca1-4f1d-98dd-655d2daee73a')\"\n",
              "              title=\"Convert this dataframe to an interactive table.\"\n",
              "              style=\"display:none;\">\n",
              "        \n",
              "  <svg xmlns=\"http://www.w3.org/2000/svg\" height=\"24px\"viewBox=\"0 0 24 24\"\n",
              "       width=\"24px\">\n",
              "    <path d=\"M0 0h24v24H0V0z\" fill=\"none\"/>\n",
              "    <path d=\"M18.56 5.44l.94 2.06.94-2.06 2.06-.94-2.06-.94-.94-2.06-.94 2.06-2.06.94zm-11 1L8.5 8.5l.94-2.06 2.06-.94-2.06-.94L8.5 2.5l-.94 2.06-2.06.94zm10 10l.94 2.06.94-2.06 2.06-.94-2.06-.94-.94-2.06-.94 2.06-2.06.94z\"/><path d=\"M17.41 7.96l-1.37-1.37c-.4-.4-.92-.59-1.43-.59-.52 0-1.04.2-1.43.59L10.3 9.45l-7.72 7.72c-.78.78-.78 2.05 0 2.83L4 21.41c.39.39.9.59 1.41.59.51 0 1.02-.2 1.41-.59l7.78-7.78 2.81-2.81c.8-.78.8-2.07 0-2.86zM5.41 20L4 18.59l7.72-7.72 1.47 1.35L5.41 20z\"/>\n",
              "  </svg>\n",
              "      </button>\n",
              "      \n",
              "  <style>\n",
              "    .colab-df-container {\n",
              "      display:flex;\n",
              "      flex-wrap:wrap;\n",
              "      gap: 12px;\n",
              "    }\n",
              "\n",
              "    .colab-df-convert {\n",
              "      background-color: #E8F0FE;\n",
              "      border: none;\n",
              "      border-radius: 50%;\n",
              "      cursor: pointer;\n",
              "      display: none;\n",
              "      fill: #1967D2;\n",
              "      height: 32px;\n",
              "      padding: 0 0 0 0;\n",
              "      width: 32px;\n",
              "    }\n",
              "\n",
              "    .colab-df-convert:hover {\n",
              "      background-color: #E2EBFA;\n",
              "      box-shadow: 0px 1px 2px rgba(60, 64, 67, 0.3), 0px 1px 3px 1px rgba(60, 64, 67, 0.15);\n",
              "      fill: #174EA6;\n",
              "    }\n",
              "\n",
              "    [theme=dark] .colab-df-convert {\n",
              "      background-color: #3B4455;\n",
              "      fill: #D2E3FC;\n",
              "    }\n",
              "\n",
              "    [theme=dark] .colab-df-convert:hover {\n",
              "      background-color: #434B5C;\n",
              "      box-shadow: 0px 1px 3px 1px rgba(0, 0, 0, 0.15);\n",
              "      filter: drop-shadow(0px 1px 2px rgba(0, 0, 0, 0.3));\n",
              "      fill: #FFFFFF;\n",
              "    }\n",
              "  </style>\n",
              "\n",
              "      <script>\n",
              "        const buttonEl =\n",
              "          document.querySelector('#df-2bc0da8d-fca1-4f1d-98dd-655d2daee73a button.colab-df-convert');\n",
              "        buttonEl.style.display =\n",
              "          google.colab.kernel.accessAllowed ? 'block' : 'none';\n",
              "\n",
              "        async function convertToInteractive(key) {\n",
              "          const element = document.querySelector('#df-2bc0da8d-fca1-4f1d-98dd-655d2daee73a');\n",
              "          const dataTable =\n",
              "            await google.colab.kernel.invokeFunction('convertToInteractive',\n",
              "                                                     [key], {});\n",
              "          if (!dataTable) return;\n",
              "\n",
              "          const docLinkHtml = 'Like what you see? Visit the ' +\n",
              "            '<a target=\"_blank\" href=https://colab.research.google.com/notebooks/data_table.ipynb>data table notebook</a>'\n",
              "            + ' to learn more about interactive tables.';\n",
              "          element.innerHTML = '';\n",
              "          dataTable['output_type'] = 'display_data';\n",
              "          await google.colab.output.renderOutput(dataTable, element);\n",
              "          const docLink = document.createElement('div');\n",
              "          docLink.innerHTML = docLinkHtml;\n",
              "          element.appendChild(docLink);\n",
              "        }\n",
              "      </script>\n",
              "    </div>\n",
              "  </div>\n",
              "  "
            ],
            "text/plain": [
              "                       Global_Time  v_length  ...  Time_Second      Time\n",
              "0        2005-06-15 08:07:55-07:00      13.0  ...           55  08:07:55\n",
              "1 2005-06-15 08:00:24.800000-07:00      13.5  ...           24  08:00:24\n",
              "2 2005-06-15 08:12:04.700000-07:00      13.5  ...            4  08:12:04\n",
              "3 2005-06-15 08:34:32.700000-07:00      24.0  ...           32  08:34:32\n",
              "4 2005-06-15 08:09:41.200000-07:00      15.0  ...           41  08:09:41\n",
              "\n",
              "[5 rows x 12 columns]"
            ]
          },
          "metadata": {},
          "execution_count": 14
        }
      ]
    },
    {
      "cell_type": "code",
      "metadata": {
        "id": "spread-conjunction",
        "colab": {
          "base_uri": "https://localhost:8080/",
          "height": 300
        },
        "outputId": "d2d27500-50e5-4012-d930-4873c789fc44"
      },
      "source": [
        "df.describe()"
      ],
      "id": "spread-conjunction",
      "execution_count": 15,
      "outputs": [
        {
          "output_type": "execute_result",
          "data": {
            "text/html": [
              "\n",
              "  <div id=\"df-710ffb14-e74e-468b-90e7-95eded67eeef\">\n",
              "    <div class=\"colab-df-container\">\n",
              "      <div>\n",
              "<style scoped>\n",
              "    .dataframe tbody tr th:only-of-type {\n",
              "        vertical-align: middle;\n",
              "    }\n",
              "\n",
              "    .dataframe tbody tr th {\n",
              "        vertical-align: top;\n",
              "    }\n",
              "\n",
              "    .dataframe thead th {\n",
              "        text-align: right;\n",
              "    }\n",
              "</style>\n",
              "<table border=\"1\" class=\"dataframe\">\n",
              "  <thead>\n",
              "    <tr style=\"text-align: right;\">\n",
              "      <th></th>\n",
              "      <th>v_length</th>\n",
              "      <th>v_Width</th>\n",
              "      <th>v_Class</th>\n",
              "      <th>v_Vel</th>\n",
              "      <th>v_Acc</th>\n",
              "      <th>Lane_ID</th>\n",
              "      <th>Congestion</th>\n",
              "      <th>Time_Hour</th>\n",
              "      <th>Time_Minute</th>\n",
              "      <th>Time_Second</th>\n",
              "    </tr>\n",
              "  </thead>\n",
              "  <tbody>\n",
              "    <tr>\n",
              "      <th>count</th>\n",
              "      <td>455846.000000</td>\n",
              "      <td>455846.000000</td>\n",
              "      <td>455846.000000</td>\n",
              "      <td>455846.000000</td>\n",
              "      <td>455846.000000</td>\n",
              "      <td>455846.000000</td>\n",
              "      <td>455846.000000</td>\n",
              "      <td>455846.000000</td>\n",
              "      <td>455846.000000</td>\n",
              "      <td>455846.000000</td>\n",
              "    </tr>\n",
              "    <tr>\n",
              "      <th>mean</th>\n",
              "      <td>15.309449</td>\n",
              "      <td>6.296412</td>\n",
              "      <td>2.016080</td>\n",
              "      <td>30.119328</td>\n",
              "      <td>0.159670</td>\n",
              "      <td>2.991453</td>\n",
              "      <td>0.018884</td>\n",
              "      <td>7.833319</td>\n",
              "      <td>24.158093</td>\n",
              "      <td>29.414658</td>\n",
              "    </tr>\n",
              "    <tr>\n",
              "      <th>std</th>\n",
              "      <td>4.488224</td>\n",
              "      <td>0.892994</td>\n",
              "      <td>0.162736</td>\n",
              "      <td>14.070791</td>\n",
              "      <td>4.550935</td>\n",
              "      <td>1.459117</td>\n",
              "      <td>0.136114</td>\n",
              "      <td>0.372691</td>\n",
              "      <td>16.528372</td>\n",
              "      <td>17.309386</td>\n",
              "    </tr>\n",
              "    <tr>\n",
              "      <th>min</th>\n",
              "      <td>4.000000</td>\n",
              "      <td>2.000000</td>\n",
              "      <td>1.000000</td>\n",
              "      <td>0.000000</td>\n",
              "      <td>-11.200000</td>\n",
              "      <td>1.000000</td>\n",
              "      <td>0.000000</td>\n",
              "      <td>7.000000</td>\n",
              "      <td>0.000000</td>\n",
              "      <td>0.000000</td>\n",
              "    </tr>\n",
              "    <tr>\n",
              "      <th>25%</th>\n",
              "      <td>13.500000</td>\n",
              "      <td>5.900000</td>\n",
              "      <td>2.000000</td>\n",
              "      <td>20.000000</td>\n",
              "      <td>-0.770000</td>\n",
              "      <td>2.000000</td>\n",
              "      <td>0.000000</td>\n",
              "      <td>8.000000</td>\n",
              "      <td>11.000000</td>\n",
              "      <td>14.000000</td>\n",
              "    </tr>\n",
              "    <tr>\n",
              "      <th>50%</th>\n",
              "      <td>15.000000</td>\n",
              "      <td>6.400000</td>\n",
              "      <td>2.000000</td>\n",
              "      <td>30.240000</td>\n",
              "      <td>0.000000</td>\n",
              "      <td>3.000000</td>\n",
              "      <td>0.000000</td>\n",
              "      <td>8.000000</td>\n",
              "      <td>22.000000</td>\n",
              "      <td>29.000000</td>\n",
              "    </tr>\n",
              "    <tr>\n",
              "      <th>75%</th>\n",
              "      <td>16.000000</td>\n",
              "      <td>6.900000</td>\n",
              "      <td>2.000000</td>\n",
              "      <td>39.990000</td>\n",
              "      <td>1.380000</td>\n",
              "      <td>4.000000</td>\n",
              "      <td>0.000000</td>\n",
              "      <td>8.000000</td>\n",
              "      <td>32.000000</td>\n",
              "      <td>44.000000</td>\n",
              "    </tr>\n",
              "    <tr>\n",
              "      <th>max</th>\n",
              "      <td>76.100000</td>\n",
              "      <td>8.500000</td>\n",
              "      <td>3.000000</td>\n",
              "      <td>95.300000</td>\n",
              "      <td>11.200000</td>\n",
              "      <td>8.000000</td>\n",
              "      <td>1.000000</td>\n",
              "      <td>8.000000</td>\n",
              "      <td>59.000000</td>\n",
              "      <td>59.000000</td>\n",
              "    </tr>\n",
              "  </tbody>\n",
              "</table>\n",
              "</div>\n",
              "      <button class=\"colab-df-convert\" onclick=\"convertToInteractive('df-710ffb14-e74e-468b-90e7-95eded67eeef')\"\n",
              "              title=\"Convert this dataframe to an interactive table.\"\n",
              "              style=\"display:none;\">\n",
              "        \n",
              "  <svg xmlns=\"http://www.w3.org/2000/svg\" height=\"24px\"viewBox=\"0 0 24 24\"\n",
              "       width=\"24px\">\n",
              "    <path d=\"M0 0h24v24H0V0z\" fill=\"none\"/>\n",
              "    <path d=\"M18.56 5.44l.94 2.06.94-2.06 2.06-.94-2.06-.94-.94-2.06-.94 2.06-2.06.94zm-11 1L8.5 8.5l.94-2.06 2.06-.94-2.06-.94L8.5 2.5l-.94 2.06-2.06.94zm10 10l.94 2.06.94-2.06 2.06-.94-2.06-.94-.94-2.06-.94 2.06-2.06.94z\"/><path d=\"M17.41 7.96l-1.37-1.37c-.4-.4-.92-.59-1.43-.59-.52 0-1.04.2-1.43.59L10.3 9.45l-7.72 7.72c-.78.78-.78 2.05 0 2.83L4 21.41c.39.39.9.59 1.41.59.51 0 1.02-.2 1.41-.59l7.78-7.78 2.81-2.81c.8-.78.8-2.07 0-2.86zM5.41 20L4 18.59l7.72-7.72 1.47 1.35L5.41 20z\"/>\n",
              "  </svg>\n",
              "      </button>\n",
              "      \n",
              "  <style>\n",
              "    .colab-df-container {\n",
              "      display:flex;\n",
              "      flex-wrap:wrap;\n",
              "      gap: 12px;\n",
              "    }\n",
              "\n",
              "    .colab-df-convert {\n",
              "      background-color: #E8F0FE;\n",
              "      border: none;\n",
              "      border-radius: 50%;\n",
              "      cursor: pointer;\n",
              "      display: none;\n",
              "      fill: #1967D2;\n",
              "      height: 32px;\n",
              "      padding: 0 0 0 0;\n",
              "      width: 32px;\n",
              "    }\n",
              "\n",
              "    .colab-df-convert:hover {\n",
              "      background-color: #E2EBFA;\n",
              "      box-shadow: 0px 1px 2px rgba(60, 64, 67, 0.3), 0px 1px 3px 1px rgba(60, 64, 67, 0.15);\n",
              "      fill: #174EA6;\n",
              "    }\n",
              "\n",
              "    [theme=dark] .colab-df-convert {\n",
              "      background-color: #3B4455;\n",
              "      fill: #D2E3FC;\n",
              "    }\n",
              "\n",
              "    [theme=dark] .colab-df-convert:hover {\n",
              "      background-color: #434B5C;\n",
              "      box-shadow: 0px 1px 3px 1px rgba(0, 0, 0, 0.15);\n",
              "      filter: drop-shadow(0px 1px 2px rgba(0, 0, 0, 0.3));\n",
              "      fill: #FFFFFF;\n",
              "    }\n",
              "  </style>\n",
              "\n",
              "      <script>\n",
              "        const buttonEl =\n",
              "          document.querySelector('#df-710ffb14-e74e-468b-90e7-95eded67eeef button.colab-df-convert');\n",
              "        buttonEl.style.display =\n",
              "          google.colab.kernel.accessAllowed ? 'block' : 'none';\n",
              "\n",
              "        async function convertToInteractive(key) {\n",
              "          const element = document.querySelector('#df-710ffb14-e74e-468b-90e7-95eded67eeef');\n",
              "          const dataTable =\n",
              "            await google.colab.kernel.invokeFunction('convertToInteractive',\n",
              "                                                     [key], {});\n",
              "          if (!dataTable) return;\n",
              "\n",
              "          const docLinkHtml = 'Like what you see? Visit the ' +\n",
              "            '<a target=\"_blank\" href=https://colab.research.google.com/notebooks/data_table.ipynb>data table notebook</a>'\n",
              "            + ' to learn more about interactive tables.';\n",
              "          element.innerHTML = '';\n",
              "          dataTable['output_type'] = 'display_data';\n",
              "          await google.colab.output.renderOutput(dataTable, element);\n",
              "          const docLink = document.createElement('div');\n",
              "          docLink.innerHTML = docLinkHtml;\n",
              "          element.appendChild(docLink);\n",
              "        }\n",
              "      </script>\n",
              "    </div>\n",
              "  </div>\n",
              "  "
            ],
            "text/plain": [
              "            v_length        v_Width  ...    Time_Minute    Time_Second\n",
              "count  455846.000000  455846.000000  ...  455846.000000  455846.000000\n",
              "mean       15.309449       6.296412  ...      24.158093      29.414658\n",
              "std         4.488224       0.892994  ...      16.528372      17.309386\n",
              "min         4.000000       2.000000  ...       0.000000       0.000000\n",
              "25%        13.500000       5.900000  ...      11.000000      14.000000\n",
              "50%        15.000000       6.400000  ...      22.000000      29.000000\n",
              "75%        16.000000       6.900000  ...      32.000000      44.000000\n",
              "max        76.100000       8.500000  ...      59.000000      59.000000\n",
              "\n",
              "[8 rows x 10 columns]"
            ]
          },
          "metadata": {},
          "execution_count": 15
        }
      ]
    },
    {
      "cell_type": "code",
      "metadata": {
        "id": "failing-border",
        "colab": {
          "base_uri": "https://localhost:8080/"
        },
        "outputId": "17b35219-8975-4889-ed4a-6a583c44516e"
      },
      "source": [
        "# Check the most and least vehicle lengths in the data\n",
        "df.v_length.value_counts().sort_values()"
      ],
      "id": "failing-border",
      "execution_count": 16,
      "outputs": [
        {
          "output_type": "execute_result",
          "data": {
            "text/plain": [
              "47.0       42\n",
              "39.0       42\n",
              "61.5       42\n",
              "54.5       46\n",
              "65.0       47\n",
              "        ...  \n",
              "16.0    37600\n",
              "14.0    41390\n",
              "15.5    47361\n",
              "14.5    51479\n",
              "15.0    52482\n",
              "Name: v_length, Length: 97, dtype: int64"
            ]
          },
          "metadata": {},
          "execution_count": 16
        }
      ]
    },
    {
      "cell_type": "code",
      "metadata": {
        "id": "social-intersection",
        "colab": {
          "base_uri": "https://localhost:8080/",
          "height": 342
        },
        "outputId": "95e16351-974b-4823-e2f2-3b0b0d62dacb"
      },
      "source": [
        "# Distribution of vehicle widths in the data\n",
        "ax = df.v_Width.value_counts().sort_index().plot(kind='bar', figsize=(10,5), title='Vehicle Width Distribution')"
      ],
      "id": "social-intersection",
      "execution_count": 17,
      "outputs": [
        {
          "output_type": "display_data",
          "data": {
            "image/png": "[encoded data removed]",
            "text/plain": [
              "<Figure size 720x360 with 1 Axes>"
            ]
          },
          "metadata": {
            "needs_background": "light"
          }
        }
      ]
    },
    {
      "cell_type": "code",
      "metadata": {
        "id": "consolidated-scope",
        "colab": {
          "base_uri": "https://localhost:8080/",
          "height": 342
        },
        "outputId": "8ddd35fc-aabc-4bcc-df9d-a6ab2b08f683"
      },
      "source": [
        "# Graph to show v_Class distribution\n",
        "ax = df.v_Class.value_counts().sort_index().plot(kind='bar', figsize=(7,5), title='Vehicle Class Distribution')"
      ],
      "id": "consolidated-scope",
      "execution_count": 18,
      "outputs": [
        {
          "output_type": "display_data",
          "data": {
            "image/png": "[encoded data removed]",
            "text/plain": [
              "<Figure size 504x360 with 1 Axes>"
            ]
          },
          "metadata": {
            "needs_background": "light"
          }
        }
      ]
    },
    {
      "cell_type": "code",
      "metadata": {
        "id": "numerical-depth",
        "colab": {
          "base_uri": "https://localhost:8080/"
        },
        "outputId": "e592f922-fae6-4d6a-fe41-9309cb11ca7a"
      },
      "source": [
        "# The number of vehicles that used each lane\n",
        "df.Lane_ID.value_counts()"
      ],
      "id": "numerical-depth",
      "execution_count": 19,
      "outputs": [
        {
          "output_type": "execute_result",
          "data": {
            "text/plain": [
              "2.0    94821\n",
              "1.0    93273\n",
              "3.0    89603\n",
              "4.0    88966\n",
              "5.0    81591\n",
              "6.0     5614\n",
              "7.0     1409\n",
              "8.0      569\n",
              "Name: Lane_ID, dtype: int64"
            ]
          },
          "metadata": {},
          "execution_count": 19
        }
      ]
    },
    {
      "cell_type": "code",
      "metadata": {
        "id": "scientific-representation"
      },
      "source": [
        "speed_columns = ['v_Vel', 'v_Acc']"
      ],
      "id": "scientific-representation",
      "execution_count": 20,
      "outputs": []
    },
    {
      "cell_type": "code",
      "metadata": {
        "id": "rising-length",
        "colab": {
          "base_uri": "https://localhost:8080/",
          "height": 994
        },
        "outputId": "22ee23fb-0729-4340-f7ce-d4a40b452971"
      },
      "source": [
        "# Time series to show the behaviour of the vehicles velocity and acceleration over time\n",
        "plt.figure()\n",
        "ax = df.plot(x='Global_Time', y=speed_columns, kind='line', figsize=(25, 20), subplots=True,\n",
        "                title=speed_columns)"
      ],
      "id": "rising-length",
      "execution_count": 21,
      "outputs": [
        {
          "output_type": "display_data",
          "data": {
            "text/plain": [
              "<Figure size 432x288 with 0 Axes>"
            ]
          },
          "metadata": {}
        },
        {
          "output_type": "display_data",
          "data": {
            "image/png": "[encoded data removed]",
            "text/plain": [
              "<Figure size 1800x1440 with 2 Axes>"
            ]
          },
          "metadata": {
            "needs_background": "light"
          }
        }
      ]
    },
    {
      "cell_type": "code",
      "metadata": {
        "id": "lyric-bangladesh",
        "colab": {
          "base_uri": "https://localhost:8080/",
          "height": 597
        },
        "outputId": "e2860a42-b935-46e7-ea9c-37137367a555"
      },
      "source": [
        "# Heatmap to show the correlation between the variables\n",
        "corr = df.corr()\n",
        "plt.figure(figsize=(9,9))\n",
        "ax = sns.heatmap(corr, linewidth=0.5, cmap='RdYlGn')"
      ],
      "id": "lyric-bangladesh",
      "execution_count": 22,
      "outputs": [
        {
          "output_type": "display_data",
          "data": {
            "image/png": "[encoded data removed]",
            "text/plain": [
              "<Figure size 648x648 with 2 Axes>"
            ]
          },
          "metadata": {
            "needs_background": "light"
          }
        }
      ]
    },
    {
      "cell_type": "markdown",
      "metadata": {
        "id": "hazardous-paraguay"
      },
      "source": [
        "From the heatmap we can tell the following:\n",
        "- Strong correlation between the hour and minute\n",
        "- Weak correlation between congestion and the vehicles velocity\n",
        "- Weak correlations between the hour, minute, lane and the vehicles velocity\n",
        "\n",
        "Could the hour, minute, lane influence the vehicles velocity and correlation?"
      ],
      "id": "hazardous-paraguay"
    },
    {
      "cell_type": "code",
      "metadata": {
        "id": "forty-namibia",
        "colab": {
          "base_uri": "https://localhost:8080/"
        },
        "outputId": "c72fe205-89fa-4a25-bdfa-b37431d0e24c"
      },
      "source": [
        "df.Time.describe()"
      ],
      "id": "forty-namibia",
      "execution_count": 23,
      "outputs": [
        {
          "output_type": "execute_result",
          "data": {
            "text/plain": [
              "count       455846\n",
              "unique        2772\n",
              "top       08:31:24\n",
              "freq           292\n",
              "Name: Time, dtype: object"
            ]
          },
          "metadata": {},
          "execution_count": 23
        }
      ]
    },
    {
      "cell_type": "code",
      "metadata": {
        "id": "checked-attendance",
        "colab": {
          "base_uri": "https://localhost:8080/",
          "height": 499
        },
        "outputId": "a0104e7a-2a04-43f0-e203-f2c10d6e17ae"
      },
      "source": [
        "ax = df.Time.value_counts().sort_index().plot(kind='line', figsize=(18,8), \n",
        "                                              title='Vehicle Volume Series')"
      ],
      "id": "checked-attendance",
      "execution_count": 24,
      "outputs": [
        {
          "output_type": "display_data",
          "data": {
            "image/png": "[encoded data removed]",
            "text/plain": [
              "<Figure size 1296x576 with 1 Axes>"
            ]
          },
          "metadata": {
            "needs_background": "light"
          }
        }
      ]
    },
    {
      "cell_type": "code",
      "metadata": {
        "id": "destroyed-silicon"
      },
      "source": [
        "ax.get_figure().savefig('Vehicle Volume.png')"
      ],
      "id": "destroyed-silicon",
      "execution_count": 25,
      "outputs": []
    },
    {
      "cell_type": "markdown",
      "metadata": {
        "id": "wicked-junior"
      },
      "source": [
        "# Model Building\n",
        "\n",
        "#### Preparing the data"
      ],
      "id": "wicked-junior"
    },
    {
      "cell_type": "code",
      "metadata": {
        "id": "sudden-hawaiian"
      },
      "source": [
        "# Dataframe to be used for model prediction\n",
        "data = df.iloc[:, 1:11]"
      ],
      "id": "sudden-hawaiian",
      "execution_count": 26,
      "outputs": []
    },
    {
      "cell_type": "code",
      "metadata": {
        "id": "better-target",
        "colab": {
          "base_uri": "https://localhost:8080/",
          "height": 206
        },
        "outputId": "5ab247f7-41d3-42af-dd77-2e0501fc288a"
      },
      "source": [
        "data.head()"
      ],
      "id": "better-target",
      "execution_count": 27,
      "outputs": [
        {
          "output_type": "execute_result",
          "data": {
            "text/html": [
              "\n",
              "  <div id=\"df-24c5cbfd-679f-4345-ad1e-42157cfb6f64\">\n",
              "    <div class=\"colab-df-container\">\n",
              "      <div>\n",
              "<style scoped>\n",
              "    .dataframe tbody tr th:only-of-type {\n",
              "        vertical-align: middle;\n",
              "    }\n",
              "\n",
              "    .dataframe tbody tr th {\n",
              "        vertical-align: top;\n",
              "    }\n",
              "\n",
              "    .dataframe thead th {\n",
              "        text-align: right;\n",
              "    }\n",
              "</style>\n",
              "<table border=\"1\" class=\"dataframe\">\n",
              "  <thead>\n",
              "    <tr style=\"text-align: right;\">\n",
              "      <th></th>\n",
              "      <th>v_length</th>\n",
              "      <th>v_Width</th>\n",
              "      <th>v_Class</th>\n",
              "      <th>v_Vel</th>\n",
              "      <th>v_Acc</th>\n",
              "      <th>Lane_ID</th>\n",
              "      <th>Congestion</th>\n",
              "      <th>Time_Hour</th>\n",
              "      <th>Time_Minute</th>\n",
              "      <th>Time_Second</th>\n",
              "    </tr>\n",
              "  </thead>\n",
              "  <tbody>\n",
              "    <tr>\n",
              "      <th>0</th>\n",
              "      <td>13.0</td>\n",
              "      <td>6.9</td>\n",
              "      <td>2.0</td>\n",
              "      <td>23.31</td>\n",
              "      <td>2.05</td>\n",
              "      <td>3.0</td>\n",
              "      <td>0</td>\n",
              "      <td>8</td>\n",
              "      <td>7</td>\n",
              "      <td>55</td>\n",
              "    </tr>\n",
              "    <tr>\n",
              "      <th>1</th>\n",
              "      <td>13.5</td>\n",
              "      <td>6.9</td>\n",
              "      <td>2.0</td>\n",
              "      <td>37.52</td>\n",
              "      <td>11.20</td>\n",
              "      <td>2.0</td>\n",
              "      <td>0</td>\n",
              "      <td>8</td>\n",
              "      <td>0</td>\n",
              "      <td>24</td>\n",
              "    </tr>\n",
              "    <tr>\n",
              "      <th>2</th>\n",
              "      <td>13.5</td>\n",
              "      <td>4.4</td>\n",
              "      <td>2.0</td>\n",
              "      <td>41.99</td>\n",
              "      <td>0.10</td>\n",
              "      <td>1.0</td>\n",
              "      <td>0</td>\n",
              "      <td>8</td>\n",
              "      <td>12</td>\n",
              "      <td>4</td>\n",
              "    </tr>\n",
              "    <tr>\n",
              "      <th>3</th>\n",
              "      <td>24.0</td>\n",
              "      <td>8.5</td>\n",
              "      <td>3.0</td>\n",
              "      <td>45.12</td>\n",
              "      <td>-0.55</td>\n",
              "      <td>5.0</td>\n",
              "      <td>0</td>\n",
              "      <td>8</td>\n",
              "      <td>34</td>\n",
              "      <td>32</td>\n",
              "    </tr>\n",
              "    <tr>\n",
              "      <th>4</th>\n",
              "      <td>15.0</td>\n",
              "      <td>5.9</td>\n",
              "      <td>2.0</td>\n",
              "      <td>24.54</td>\n",
              "      <td>-0.04</td>\n",
              "      <td>3.0</td>\n",
              "      <td>0</td>\n",
              "      <td>8</td>\n",
              "      <td>9</td>\n",
              "      <td>41</td>\n",
              "    </tr>\n",
              "  </tbody>\n",
              "</table>\n",
              "</div>\n",
              "      <button class=\"colab-df-convert\" onclick=\"convertToInteractive('df-24c5cbfd-679f-4345-ad1e-42157cfb6f64')\"\n",
              "              title=\"Convert this dataframe to an interactive table.\"\n",
              "              style=\"display:none;\">\n",
              "        \n",
              "  <svg xmlns=\"http://www.w3.org/2000/svg\" height=\"24px\"viewBox=\"0 0 24 24\"\n",
              "       width=\"24px\">\n",
              "    <path d=\"M0 0h24v24H0V0z\" fill=\"none\"/>\n",
              "    <path d=\"M18.56 5.44l.94 2.06.94-2.06 2.06-.94-2.06-.94-.94-2.06-.94 2.06-2.06.94zm-11 1L8.5 8.5l.94-2.06 2.06-.94-2.06-.94L8.5 2.5l-.94 2.06-2.06.94zm10 10l.94 2.06.94-2.06 2.06-.94-2.06-.94-.94-2.06-.94 2.06-2.06.94z\"/><path d=\"M17.41 7.96l-1.37-1.37c-.4-.4-.92-.59-1.43-.59-.52 0-1.04.2-1.43.59L10.3 9.45l-7.72 7.72c-.78.78-.78 2.05 0 2.83L4 21.41c.39.39.9.59 1.41.59.51 0 1.02-.2 1.41-.59l7.78-7.78 2.81-2.81c.8-.78.8-2.07 0-2.86zM5.41 20L4 18.59l7.72-7.72 1.47 1.35L5.41 20z\"/>\n",
              "  </svg>\n",
              "      </button>\n",
              "      \n",
              "  <style>\n",
              "    .colab-df-container {\n",
              "      display:flex;\n",
              "      flex-wrap:wrap;\n",
              "      gap: 12px;\n",
              "    }\n",
              "\n",
              "    .colab-df-convert {\n",
              "      background-color: #E8F0FE;\n",
              "      border: none;\n",
              "      border-radius: 50%;\n",
              "      cursor: pointer;\n",
              "      display: none;\n",
              "      fill: #1967D2;\n",
              "      height: 32px;\n",
              "      padding: 0 0 0 0;\n",
              "      width: 32px;\n",
              "    }\n",
              "\n",
              "    .colab-df-convert:hover {\n",
              "      background-color: #E2EBFA;\n",
              "      box-shadow: 0px 1px 2px rgba(60, 64, 67, 0.3), 0px 1px 3px 1px rgba(60, 64, 67, 0.15);\n",
              "      fill: #174EA6;\n",
              "    }\n",
              "\n",
              "    [theme=dark] .colab-df-convert {\n",
              "      background-color: #3B4455;\n",
              "      fill: #D2E3FC;\n",
              "    }\n",
              "\n",
              "    [theme=dark] .colab-df-convert:hover {\n",
              "      background-color: #434B5C;\n",
              "      box-shadow: 0px 1px 3px 1px rgba(0, 0, 0, 0.15);\n",
              "      filter: drop-shadow(0px 1px 2px rgba(0, 0, 0, 0.3));\n",
              "      fill: #FFFFFF;\n",
              "    }\n",
              "  </style>\n",
              "\n",
              "      <script>\n",
              "        const buttonEl =\n",
              "          document.querySelector('#df-24c5cbfd-679f-4345-ad1e-42157cfb6f64 button.colab-df-convert');\n",
              "        buttonEl.style.display =\n",
              "          google.colab.kernel.accessAllowed ? 'block' : 'none';\n",
              "\n",
              "        async function convertToInteractive(key) {\n",
              "          const element = document.querySelector('#df-24c5cbfd-679f-4345-ad1e-42157cfb6f64');\n",
              "          const dataTable =\n",
              "            await google.colab.kernel.invokeFunction('convertToInteractive',\n",
              "                                                     [key], {});\n",
              "          if (!dataTable) return;\n",
              "\n",
              "          const docLinkHtml = 'Like what you see? Visit the ' +\n",
              "            '<a target=\"_blank\" href=https://colab.research.google.com/notebooks/data_table.ipynb>data table notebook</a>'\n",
              "            + ' to learn more about interactive tables.';\n",
              "          element.innerHTML = '';\n",
              "          dataTable['output_type'] = 'display_data';\n",
              "          await google.colab.output.renderOutput(dataTable, element);\n",
              "          const docLink = document.createElement('div');\n",
              "          docLink.innerHTML = docLinkHtml;\n",
              "          element.appendChild(docLink);\n",
              "        }\n",
              "      </script>\n",
              "    </div>\n",
              "  </div>\n",
              "  "
            ],
            "text/plain": [
              "   v_length  v_Width  v_Class  ...  Time_Hour  Time_Minute  Time_Second\n",
              "0      13.0      6.9      2.0  ...          8            7           55\n",
              "1      13.5      6.9      2.0  ...          8            0           24\n",
              "2      13.5      4.4      2.0  ...          8           12            4\n",
              "3      24.0      8.5      3.0  ...          8           34           32\n",
              "4      15.0      5.9      2.0  ...          8            9           41\n",
              "\n",
              "[5 rows x 10 columns]"
            ]
          },
          "metadata": {},
          "execution_count": 27
        }
      ]
    },
    {
      "cell_type": "code",
      "metadata": {
        "id": "organized-greensboro"
      },
      "source": [
        "# Select feature columns and convert them to a numpy array\n",
        "X = data.drop('Congestion', axis=1).values"
      ],
      "id": "organized-greensboro",
      "execution_count": 28,
      "outputs": []
    },
    {
      "cell_type": "code",
      "metadata": {
        "id": "twenty-bikini",
        "colab": {
          "base_uri": "https://localhost:8080/"
        },
        "outputId": "f027bb0d-5d5a-4cb6-958c-5b9989aac617"
      },
      "source": [
        "X"
      ],
      "id": "twenty-bikini",
      "execution_count": 29,
      "outputs": [
        {
          "output_type": "execute_result",
          "data": {
            "text/plain": [
              "array([[13. ,  6.9,  2. , ...,  8. ,  7. , 55. ],\n",
              "       [13.5,  6.9,  2. , ...,  8. ,  0. , 24. ],\n",
              "       [13.5,  4.4,  2. , ...,  8. , 12. ,  4. ],\n",
              "       ...,\n",
              "       [16.5,  6.4,  2. , ...,  8. , 16. , 31. ],\n",
              "       [13.5,  5.9,  2. , ...,  8. , 15. , 56. ],\n",
              "       [14.5,  7.4,  2. , ...,  8. , 33. , 22. ]])"
            ]
          },
          "metadata": {},
          "execution_count": 29
        }
      ]
    },
    {
      "cell_type": "code",
      "metadata": {
        "id": "nutritional-priority"
      },
      "source": [
        "# Select label columns and convert them to a numpy array\n",
        "y = data.Congestion.values"
      ],
      "id": "nutritional-priority",
      "execution_count": 30,
      "outputs": []
    },
    {
      "cell_type": "code",
      "metadata": {
        "id": "supported-claim",
        "colab": {
          "base_uri": "https://localhost:8080/"
        },
        "outputId": "53039cd7-5984-49b1-ef90-3f7afec7da4b"
      },
      "source": [
        "y"
      ],
      "id": "supported-claim",
      "execution_count": 31,
      "outputs": [
        {
          "output_type": "execute_result",
          "data": {
            "text/plain": [
              "array([0, 0, 0, ..., 0, 0, 0])"
            ]
          },
          "metadata": {},
          "execution_count": 31
        }
      ]
    },
    {
      "cell_type": "code",
      "metadata": {
        "id": "endangered-saying"
      },
      "source": [
        "# Split the data into the training and Test set\n",
        "X_train, X_test, y_train, y_test = train_test_split(X, y, test_size = 0.3, random_state = 0)"
      ],
      "id": "endangered-saying",
      "execution_count": 32,
      "outputs": []
    },
    {
      "cell_type": "code",
      "metadata": {
        "id": "alternate-composer"
      },
      "source": [
        "# Feature scaling by standardizing the data for prediction\n",
        "sc = StandardScaler()\n",
        "X_train = sc.fit_transform(X_train)\n",
        "X_test = sc.transform(X_test)"
      ],
      "id": "alternate-composer",
      "execution_count": 33,
      "outputs": []
    },
    {
      "cell_type": "markdown",
      "metadata": {
        "id": "seeing-patient"
      },
      "source": [
        "#### Building the neural network"
      ],
      "id": "seeing-patient"
    },
    {
      "cell_type": "code",
      "metadata": {
        "id": "played-field"
      },
      "source": [
        "# Initializing the neural network\n",
        "model = Sequential()"
      ],
      "id": "played-field",
      "execution_count": 34,
      "outputs": []
    },
    {
      "cell_type": "markdown",
      "metadata": {
        "id": "artificial-davis"
      },
      "source": [
        "##### Adding the layers"
      ],
      "id": "artificial-davis"
    },
    {
      "cell_type": "code",
      "metadata": {
        "id": "surprising-rider"
      },
      "source": [
        "# Input layer with 9 nodes and a hidden layer with 5 nodes using the relu activation function\n",
        "model.add(Dense(units = 5, kernel_initializer = 'uniform', activation = 'relu', input_dim = 9))"
      ],
      "id": "surprising-rider",
      "execution_count": 35,
      "outputs": []
    },
    {
      "cell_type": "code",
      "metadata": {
        "id": "herbal-player"
      },
      "source": [
        "# Output layer with 1 node using the sigmoid activation function\n",
        "model.add(Dense(units = 1, kernel_initializer = 'uniform', activation = 'sigmoid'))"
      ],
      "id": "herbal-player",
      "execution_count": 36,
      "outputs": []
    },
    {
      "cell_type": "code",
      "metadata": {
        "id": "written-murder"
      },
      "source": [
        "# Compile the neural network\n",
        "model.compile(optimizer = 'adam', loss = 'binary_crossentropy', metrics = ['accuracy'])"
      ],
      "id": "written-murder",
      "execution_count": 37,
      "outputs": []
    },
    {
      "cell_type": "code",
      "metadata": {
        "id": "thirty-paragraph",
        "colab": {
          "base_uri": "https://localhost:8080/"
        },
        "outputId": "2450b418-9521-46ca-80b3-c2fca0100289"
      },
      "source": [
        "# Uncomment to train the model\n",
        "model.fit(X_train, y_train, batch_size = 10, epochs = 100)"
      ],
      "id": "thirty-paragraph",
      "execution_count": 38,
      "outputs": [
        {
          "output_type": "stream",
          "name": "stdout",
          "text": [
            "Epoch 1/100\n",
            "31910/31910 [==============================] - 42s 1ms/step - loss: 0.0271 - accuracy: 0.9926\n",
            "Epoch 2/100\n",
            "31910/31910 [==============================] - 42s 1ms/step - loss: 0.0069 - accuracy: 0.9979\n",
            "Epoch 3/100\n",
            "31910/31910 [==============================] - 41s 1ms/step - loss: 0.0058 - accuracy: 0.9981\n",
            "Epoch 4/100\n",
            "31910/31910 [==============================] - 41s 1ms/step - loss: 0.0053 - accuracy: 0.9983\n",
            "Epoch 5/100\n",
            "31910/31910 [==============================] - 42s 1ms/step - loss: 0.0050 - accuracy: 0.9984\n",
            "Epoch 6/100\n",
            "31910/31910 [==============================] - 41s 1ms/step - loss: 0.0048 - accuracy: 0.9984\n",
            "Epoch 7/100\n",
            "31910/31910 [==============================] - 42s 1ms/step - loss: 0.0046 - accuracy: 0.9985\n",
            "Epoch 8/100\n",
            "31910/31910 [==============================] - 41s 1ms/step - loss: 0.0046 - accuracy: 0.9986\n",
            "Epoch 9/100\n",
            "31910/31910 [==============================] - 42s 1ms/step - loss: 0.0045 - accuracy: 0.9986\n",
            "Epoch 10/100\n",
            "31910/31910 [==============================] - 41s 1ms/step - loss: 0.0044 - accuracy: 0.9985\n",
            "Epoch 11/100\n",
            "31910/31910 [==============================] - 42s 1ms/step - loss: 0.0044 - accuracy: 0.9986\n",
            "Epoch 12/100\n",
            "31910/31910 [==============================] - 41s 1ms/step - loss: 0.0043 - accuracy: 0.9986\n",
            "Epoch 13/100\n",
            "31910/31910 [==============================] - 41s 1ms/step - loss: 0.0042 - accuracy: 0.9986\n",
            "Epoch 14/100\n",
            "31910/31910 [==============================] - 41s 1ms/step - loss: 0.0041 - accuracy: 0.9987\n",
            "Epoch 15/100\n",
            "31910/31910 [==============================] - 41s 1ms/step - loss: 0.0041 - accuracy: 0.9987\n",
            "Epoch 16/100\n",
            "31910/31910 [==============================] - 41s 1ms/step - loss: 0.0042 - accuracy: 0.9986\n",
            "Epoch 17/100\n",
            "31910/31910 [==============================] - 41s 1ms/step - loss: 0.0040 - accuracy: 0.9987\n",
            "Epoch 18/100\n",
            "31910/31910 [==============================] - 41s 1ms/step - loss: 0.0039 - accuracy: 0.9987\n",
            "Epoch 19/100\n",
            "31910/31910 [==============================] - 40s 1ms/step - loss: 0.0039 - accuracy: 0.9987\n",
            "Epoch 20/100\n",
            "31910/31910 [==============================] - 41s 1ms/step - loss: 0.0039 - accuracy: 0.9988\n",
            "Epoch 21/100\n",
            "31910/31910 [==============================] - 41s 1ms/step - loss: 0.0039 - accuracy: 0.9988\n",
            "Epoch 22/100\n",
            "31910/31910 [==============================] - 41s 1ms/step - loss: 0.0038 - accuracy: 0.9988\n",
            "Epoch 23/100\n",
            "31910/31910 [==============================] - 41s 1ms/step - loss: 0.0039 - accuracy: 0.9988\n",
            "Epoch 24/100\n",
            "31910/31910 [==============================] - 42s 1ms/step - loss: 0.0037 - accuracy: 0.9988\n",
            "Epoch 25/100\n",
            "31910/31910 [==============================] - 41s 1ms/step - loss: 0.0038 - accuracy: 0.9988\n",
            "Epoch 26/100\n",
            "31910/31910 [==============================] - 40s 1ms/step - loss: 0.0038 - accuracy: 0.9988\n",
            "Epoch 27/100\n",
            "31910/31910 [==============================] - 41s 1ms/step - loss: 0.0037 - accuracy: 0.9988\n",
            "Epoch 28/100\n",
            "31910/31910 [==============================] - 41s 1ms/step - loss: 0.0037 - accuracy: 0.9989\n",
            "Epoch 29/100\n",
            "31910/31910 [==============================] - 41s 1ms/step - loss: 0.0037 - accuracy: 0.9988\n",
            "Epoch 30/100\n",
            "31910/31910 [==============================] - 41s 1ms/step - loss: 0.0037 - accuracy: 0.9988\n",
            "Epoch 31/100\n",
            "31910/31910 [==============================] - 41s 1ms/step - loss: 0.0036 - accuracy: 0.9988\n",
            "Epoch 32/100\n",
            "31910/31910 [==============================] - 41s 1ms/step - loss: 0.0036 - accuracy: 0.9988\n",
            "Epoch 33/100\n",
            "31910/31910 [==============================] - 40s 1ms/step - loss: 0.0036 - accuracy: 0.9989\n",
            "Epoch 34/100\n",
            "31910/31910 [==============================] - 40s 1ms/step - loss: 0.0035 - accuracy: 0.9988\n",
            "Epoch 35/100\n",
            "31910/31910 [==============================] - 40s 1ms/step - loss: 0.0035 - accuracy: 0.9989\n",
            "Epoch 36/100\n",
            "31910/31910 [==============================] - 40s 1ms/step - loss: 0.0037 - accuracy: 0.9989\n",
            "Epoch 37/100\n",
            "31910/31910 [==============================] - 41s 1ms/step - loss: 0.0036 - accuracy: 0.9989\n",
            "Epoch 38/100\n",
            "31910/31910 [==============================] - 41s 1ms/step - loss: 0.0035 - accuracy: 0.9989\n",
            "Epoch 39/100\n",
            "31910/31910 [==============================] - 40s 1ms/step - loss: 0.0035 - accuracy: 0.9989\n",
            "Epoch 40/100\n",
            "31910/31910 [==============================] - 40s 1ms/step - loss: 0.0035 - accuracy: 0.9989\n",
            "Epoch 41/100\n",
            "31910/31910 [==============================] - 40s 1ms/step - loss: 0.0034 - accuracy: 0.9989\n",
            "Epoch 42/100\n",
            "31910/31910 [==============================] - 41s 1ms/step - loss: 0.0035 - accuracy: 0.9989\n",
            "Epoch 43/100\n",
            "31910/31910 [==============================] - 41s 1ms/step - loss: 0.0035 - accuracy: 0.9989\n",
            "Epoch 44/100\n",
            "31910/31910 [==============================] - 41s 1ms/step - loss: 0.0035 - accuracy: 0.9990\n",
            "Epoch 45/100\n",
            "31910/31910 [==============================] - 41s 1ms/step - loss: 0.0034 - accuracy: 0.9990\n",
            "Epoch 46/100\n",
            "31910/31910 [==============================] - 43s 1ms/step - loss: 0.0034 - accuracy: 0.9990\n",
            "Epoch 47/100\n",
            "31910/31910 [==============================] - 41s 1ms/step - loss: 0.0034 - accuracy: 0.9989\n",
            "Epoch 48/100\n",
            "31910/31910 [==============================] - 41s 1ms/step - loss: 0.0035 - accuracy: 0.9989\n",
            "Epoch 49/100\n",
            "31910/31910 [==============================] - 41s 1ms/step - loss: 0.0034 - accuracy: 0.9990\n",
            "Epoch 50/100\n",
            "31910/31910 [==============================] - 41s 1ms/step - loss: 0.0034 - accuracy: 0.9990\n",
            "Epoch 51/100\n",
            "31910/31910 [==============================] - 41s 1ms/step - loss: 0.0033 - accuracy: 0.9990\n",
            "Epoch 52/100\n",
            "31910/31910 [==============================] - 41s 1ms/step - loss: 0.0034 - accuracy: 0.9989\n",
            "Epoch 53/100\n",
            "31910/31910 [==============================] - 41s 1ms/step - loss: 0.0034 - accuracy: 0.9990\n",
            "Epoch 54/100\n",
            "31910/31910 [==============================] - 41s 1ms/step - loss: 0.0033 - accuracy: 0.9990\n",
            "Epoch 55/100\n",
            "31910/31910 [==============================] - 41s 1ms/step - loss: 0.0033 - accuracy: 0.9990\n",
            "Epoch 56/100\n",
            "31910/31910 [==============================] - 40s 1ms/step - loss: 0.0033 - accuracy: 0.9990\n",
            "Epoch 57/100\n",
            "31910/31910 [==============================] - 41s 1ms/step - loss: 0.0033 - accuracy: 0.9990\n",
            "Epoch 58/100\n",
            "31910/31910 [==============================] - 41s 1ms/step - loss: 0.0033 - accuracy: 0.9990\n",
            "Epoch 59/100\n",
            "31910/31910 [==============================] - 41s 1ms/step - loss: 0.0033 - accuracy: 0.9990\n",
            "Epoch 60/100\n",
            "31910/31910 [==============================] - 41s 1ms/step - loss: 0.0033 - accuracy: 0.9990\n",
            "Epoch 61/100\n",
            "31910/31910 [==============================] - 42s 1ms/step - loss: 0.0033 - accuracy: 0.9990\n",
            "Epoch 62/100\n",
            "31910/31910 [==============================] - 41s 1ms/step - loss: 0.0032 - accuracy: 0.9990\n",
            "Epoch 63/100\n",
            "31910/31910 [==============================] - 41s 1ms/step - loss: 0.0032 - accuracy: 0.9990\n",
            "Epoch 64/100\n",
            "31910/31910 [==============================] - 41s 1ms/step - loss: 0.0033 - accuracy: 0.9990\n",
            "Epoch 65/100\n",
            "31910/31910 [==============================] - 41s 1ms/step - loss: 0.0032 - accuracy: 0.9990\n",
            "Epoch 66/100\n",
            "31910/31910 [==============================] - 41s 1ms/step - loss: 0.0032 - accuracy: 0.9990\n",
            "Epoch 67/100\n",
            "31910/31910 [==============================] - 41s 1ms/step - loss: 0.0032 - accuracy: 0.9990\n",
            "Epoch 68/100\n",
            "31910/31910 [==============================] - 42s 1ms/step - loss: 0.0033 - accuracy: 0.9990\n",
            "Epoch 69/100\n",
            "31910/31910 [==============================] - 41s 1ms/step - loss: 0.0032 - accuracy: 0.9990\n",
            "Epoch 70/100\n",
            "31910/31910 [==============================] - 41s 1ms/step - loss: 0.0032 - accuracy: 0.9991\n",
            "Epoch 71/100\n",
            "31910/31910 [==============================] - 41s 1ms/step - loss: 0.0032 - accuracy: 0.9990\n",
            "Epoch 72/100\n",
            "31910/31910 [==============================] - 41s 1ms/step - loss: 0.0032 - accuracy: 0.9990\n",
            "Epoch 73/100\n",
            "31910/31910 [==============================] - 41s 1ms/step - loss: 0.0032 - accuracy: 0.9990\n",
            "Epoch 74/100\n",
            "31910/31910 [==============================] - 41s 1ms/step - loss: 0.0032 - accuracy: 0.9991\n",
            "Epoch 75/100\n",
            "31910/31910 [==============================] - 41s 1ms/step - loss: 0.0031 - accuracy: 0.9991\n",
            "Epoch 76/100\n",
            "31910/31910 [==============================] - 42s 1ms/step - loss: 0.0031 - accuracy: 0.9990\n",
            "Epoch 77/100\n",
            "31910/31910 [==============================] - 42s 1ms/step - loss: 0.0031 - accuracy: 0.9991\n",
            "Epoch 78/100\n",
            "31910/31910 [==============================] - 42s 1ms/step - loss: 0.0032 - accuracy: 0.9990\n",
            "Epoch 79/100\n",
            "31910/31910 [==============================] - 41s 1ms/step - loss: 0.0031 - accuracy: 0.9990\n",
            "Epoch 80/100\n",
            "31910/31910 [==============================] - 41s 1ms/step - loss: 0.0031 - accuracy: 0.9990\n",
            "Epoch 81/100\n",
            "31910/31910 [==============================] - 41s 1ms/step - loss: 0.0030 - accuracy: 0.9991\n",
            "Epoch 82/100\n",
            "31910/31910 [==============================] - 41s 1ms/step - loss: 0.0031 - accuracy: 0.9991\n",
            "Epoch 83/100\n",
            "31910/31910 [==============================] - 41s 1ms/step - loss: 0.0031 - accuracy: 0.9991\n",
            "Epoch 84/100\n",
            "31910/31910 [==============================] - 42s 1ms/step - loss: 0.0030 - accuracy: 0.9991\n",
            "Epoch 85/100\n",
            "31910/31910 [==============================] - 41s 1ms/step - loss: 0.0031 - accuracy: 0.9990\n",
            "Epoch 86/100\n",
            "31910/31910 [==============================] - 41s 1ms/step - loss: 0.0031 - accuracy: 0.9991\n",
            "Epoch 87/100\n",
            "31910/31910 [==============================] - 41s 1ms/step - loss: 0.0031 - accuracy: 0.9990\n",
            "Epoch 88/100\n",
            "31910/31910 [==============================] - 41s 1ms/step - loss: 0.0031 - accuracy: 0.9991\n",
            "Epoch 89/100\n",
            "31910/31910 [==============================] - 42s 1ms/step - loss: 0.0031 - accuracy: 0.9991\n",
            "Epoch 90/100\n",
            "31910/31910 [==============================] - 42s 1ms/step - loss: 0.0030 - accuracy: 0.9991\n",
            "Epoch 91/100\n",
            "31910/31910 [==============================] - 41s 1ms/step - loss: 0.0031 - accuracy: 0.9991\n",
            "Epoch 92/100\n",
            "31910/31910 [==============================] - 41s 1ms/step - loss: 0.0030 - accuracy: 0.9991\n",
            "Epoch 93/100\n",
            "31910/31910 [==============================] - 41s 1ms/step - loss: 0.0030 - accuracy: 0.9991\n",
            "Epoch 94/100\n",
            "31910/31910 [==============================] - 41s 1ms/step - loss: 0.0030 - accuracy: 0.9991\n",
            "Epoch 95/100\n",
            "31910/31910 [==============================] - 41s 1ms/step - loss: 0.0031 - accuracy: 0.9991\n",
            "Epoch 96/100\n",
            "31910/31910 [==============================] - 41s 1ms/step - loss: 0.0029 - accuracy: 0.9991\n",
            "Epoch 97/100\n",
            "31910/31910 [==============================] - 41s 1ms/step - loss: 0.0030 - accuracy: 0.9991\n",
            "Epoch 98/100\n",
            "31910/31910 [==============================] - 41s 1ms/step - loss: 0.0030 - accuracy: 0.9991\n",
            "Epoch 99/100\n",
            "31910/31910 [==============================] - 42s 1ms/step - loss: 0.0029 - accuracy: 0.9992\n",
            "Epoch 100/100\n",
            "31910/31910 [==============================] - 41s 1ms/step - loss: 0.0029 - accuracy: 0.9992\n"
          ]
        },
        {
          "output_type": "execute_result",
          "data": {
            "text/plain": [
              "<keras.callbacks.History at 0x7f6c03ff9b10>"
            ]
          },
          "metadata": {},
          "execution_count": 38
        }
      ]
    },
    {
      "cell_type": "code",
      "metadata": {
        "id": "understood-belief"
      },
      "source": [
        "# Save the model\n",
        "# model.save('models/neural_congestion_ds.keras')"
      ],
      "id": "understood-belief",
      "execution_count": 39,
      "outputs": []
    },
    {
      "cell_type": "code",
      "metadata": {
        "id": "spare-triumph"
      },
      "source": [
        "# model = load_model('models/neural_congestion_ds.keras', compile=False)"
      ],
      "id": "spare-triumph",
      "execution_count": 40,
      "outputs": []
    },
    {
      "cell_type": "code",
      "metadata": {
        "id": "moved-federation",
        "colab": {
          "base_uri": "https://localhost:8080/"
        },
        "outputId": "9326df62-aad8-4e4e-fb60-d7d68646bc52"
      },
      "source": [
        "model.summary()"
      ],
      "id": "moved-federation",
      "execution_count": 41,
      "outputs": [
        {
          "output_type": "stream",
          "name": "stdout",
          "text": [
            "Model: \"sequential\"\n",
            "_________________________________________________________________\n",
            " Layer (type)                Output Shape              Param #   \n",
            "=================================================================\n",
            " dense (Dense)               (None, 5)                 50        \n",
            "                                                                 \n",
            " dense_1 (Dense)             (None, 1)                 6         \n",
            "                                                                 \n",
            "=================================================================\n",
            "Total params: 56\n",
            "Trainable params: 56\n",
            "Non-trainable params: 0\n",
            "_________________________________________________________________\n"
          ]
        }
      ]
    },
    {
      "cell_type": "code",
      "metadata": {
        "id": "beginning-sister"
      },
      "source": [
        "# Use the model for predictions and convert probabilities above 0.5 to 1\n",
        "y_pred = model.predict(X_test)\n",
        "y_pred = y_pred > 0.5"
      ],
      "id": "beginning-sister",
      "execution_count": 42,
      "outputs": []
    },
    {
      "cell_type": "code",
      "metadata": {
        "id": "nasty-declaration",
        "colab": {
          "base_uri": "https://localhost:8080/"
        },
        "outputId": "45ffc888-fd2d-4f2c-a878-6e16c5f06c97"
      },
      "source": [
        "# Check the confusion matrix\n",
        "print(confusion_matrix(y_test, y_pred))"
      ],
      "id": "nasty-declaration",
      "execution_count": 43,
      "outputs": [
        {
          "output_type": "stream",
          "name": "stdout",
          "text": [
            "[[134065     96]\n",
            " [    27   2566]]\n"
          ]
        }
      ]
    },
    {
      "cell_type": "code",
      "metadata": {
        "id": "religious-pledge",
        "colab": {
          "base_uri": "https://localhost:8080/"
        },
        "outputId": "174aac62-d9f0-4d7f-da3d-f13ebd781110"
      },
      "source": [
        "# Check the classification report\n",
        "print(classification_report(y_test, y_pred))"
      ],
      "id": "religious-pledge",
      "execution_count": 44,
      "outputs": [
        {
          "output_type": "stream",
          "name": "stdout",
          "text": [
            "              precision    recall  f1-score   support\n",
            "\n",
            "           0       1.00      1.00      1.00    134161\n",
            "           1       0.96      0.99      0.98      2593\n",
            "\n",
            "    accuracy                           1.00    136754\n",
            "   macro avg       0.98      0.99      0.99    136754\n",
            "weighted avg       1.00      1.00      1.00    136754\n",
            "\n"
          ]
        }
      ]
    },
    {
      "cell_type": "code",
      "metadata": {
        "id": "controlling-girlfriend",
        "colab": {
          "base_uri": "https://localhost:8080/"
        },
        "outputId": "38ba1f17-1126-4201-cb86-8ca91f7b0a52"
      },
      "source": [
        "# Check auc score\n",
        "print(roc_auc_score(y_test, y_pred))"
      ],
      "id": "controlling-girlfriend",
      "execution_count": 45,
      "outputs": [
        {
          "output_type": "stream",
          "name": "stdout",
          "text": [
            "0.9944358961932773\n"
          ]
        }
      ]
    },
    {
      "cell_type": "markdown",
      "source": [
        "### Undersampling and making predictions"
      ],
      "metadata": {
        "id": "T26Jjf1bU9X3"
      },
      "id": "T26Jjf1bU9X3"
    },
    {
      "cell_type": "code",
      "metadata": {
        "id": "southern-breed"
      },
      "source": [
        "undersampler = RandomUnderSampler(sampling_strategy='majority')"
      ],
      "id": "southern-breed",
      "execution_count": 46,
      "outputs": []
    },
    {
      "cell_type": "code",
      "source": [
        "X_undersampled, y_undersampled = undersampler.fit_resample(X_train, y_train)"
      ],
      "metadata": {
        "id": "DJZlyXuTVJ5s"
      },
      "id": "DJZlyXuTVJ5s",
      "execution_count": 47,
      "outputs": []
    },
    {
      "cell_type": "code",
      "source": [
        "Counter(y_train)"
      ],
      "metadata": {
        "colab": {
          "base_uri": "https://localhost:8080/"
        },
        "id": "UGfR5WcXVNGJ",
        "outputId": "00eb245e-6550-4a71-a4dd-9c093b652ad5"
      },
      "id": "UGfR5WcXVNGJ",
      "execution_count": 48,
      "outputs": [
        {
          "output_type": "execute_result",
          "data": {
            "text/plain": [
              "Counter({0: 313077, 1: 6015})"
            ]
          },
          "metadata": {},
          "execution_count": 48
        }
      ]
    },
    {
      "cell_type": "code",
      "source": [
        "Counter(y_undersampled)"
      ],
      "metadata": {
        "colab": {
          "base_uri": "https://localhost:8080/"
        },
        "id": "a2n-zIJyVO9-",
        "outputId": "6904d301-c681-4146-a9c0-511961df23c8"
      },
      "id": "a2n-zIJyVO9-",
      "execution_count": 49,
      "outputs": [
        {
          "output_type": "execute_result",
          "data": {
            "text/plain": [
              "Counter({0: 6015, 1: 6015})"
            ]
          },
          "metadata": {},
          "execution_count": 49
        }
      ]
    },
    {
      "cell_type": "code",
      "source": [
        "# Initializing the neural network\n",
        "model = Sequential()"
      ],
      "metadata": {
        "id": "XVlMtHhlc5BS"
      },
      "id": "XVlMtHhlc5BS",
      "execution_count": 50,
      "outputs": []
    },
    {
      "cell_type": "code",
      "metadata": {
        "id": "c49z9b96dBUs"
      },
      "source": [
        "# Input layer with 9 nodes and a hidden layer with 5 nodes using the relu activation function\n",
        "model.add(Dense(units = 5, kernel_initializer = 'uniform', activation = 'relu', input_dim = 9))"
      ],
      "execution_count": 51,
      "outputs": [],
      "id": "c49z9b96dBUs"
    },
    {
      "cell_type": "code",
      "metadata": {
        "id": "uSPhfF5idBUt"
      },
      "source": [
        "# Output layer with 1 node using the sigmoid activation function\n",
        "model.add(Dense(units = 1, kernel_initializer = 'uniform', activation = 'sigmoid'))"
      ],
      "execution_count": 52,
      "outputs": [],
      "id": "uSPhfF5idBUt"
    },
    {
      "cell_type": "code",
      "metadata": {
        "id": "pUqeDW2LdBUt"
      },
      "source": [
        "# Compile the neural network\n",
        "model.compile(optimizer = 'adam', loss = 'binary_crossentropy', metrics = ['accuracy'])"
      ],
      "execution_count": 53,
      "outputs": [],
      "id": "pUqeDW2LdBUt"
    },
    {
      "cell_type": "code",
      "source": [
        "# Uncomment to train the model\n",
        "model.fit(X_train, y_train, batch_size = 10, epochs = 100)"
      ],
      "metadata": {
        "colab": {
          "base_uri": "https://localhost:8080/"
        },
        "id": "LbF6ZNHPVQdz",
        "outputId": "f7ec1dec-4ffb-48c9-e368-60453a8c0f62"
      },
      "id": "LbF6ZNHPVQdz",
      "execution_count": 54,
      "outputs": [
        {
          "output_type": "stream",
          "name": "stdout",
          "text": [
            "Epoch 1/100\n",
            "31910/31910 [==============================] - 41s 1ms/step - loss: 0.0294 - accuracy: 0.9942\n",
            "Epoch 2/100\n",
            "31910/31910 [==============================] - 40s 1ms/step - loss: 0.0078 - accuracy: 0.9974\n",
            "Epoch 3/100\n",
            "31910/31910 [==============================] - 40s 1ms/step - loss: 0.0061 - accuracy: 0.9980\n",
            "Epoch 4/100\n",
            "31910/31910 [==============================] - 40s 1ms/step - loss: 0.0054 - accuracy: 0.9983\n",
            "Epoch 5/100\n",
            "31910/31910 [==============================] - 41s 1ms/step - loss: 0.0049 - accuracy: 0.9985\n",
            "Epoch 6/100\n",
            "31910/31910 [==============================] - 40s 1ms/step - loss: 0.0046 - accuracy: 0.9985\n",
            "Epoch 7/100\n",
            "31910/31910 [==============================] - 41s 1ms/step - loss: 0.0044 - accuracy: 0.9985\n",
            "Epoch 8/100\n",
            "31910/31910 [==============================] - 40s 1ms/step - loss: 0.0043 - accuracy: 0.9987\n",
            "Epoch 9/100\n",
            "31910/31910 [==============================] - 40s 1ms/step - loss: 0.0042 - accuracy: 0.9987\n",
            "Epoch 10/100\n",
            "31910/31910 [==============================] - 40s 1ms/step - loss: 0.0042 - accuracy: 0.9986\n",
            "Epoch 11/100\n",
            "31910/31910 [==============================] - 40s 1ms/step - loss: 0.0041 - accuracy: 0.9987\n",
            "Epoch 12/100\n",
            "31910/31910 [==============================] - 40s 1ms/step - loss: 0.0040 - accuracy: 0.9987\n",
            "Epoch 13/100\n",
            "31910/31910 [==============================] - 40s 1ms/step - loss: 0.0040 - accuracy: 0.9987\n",
            "Epoch 14/100\n",
            "31910/31910 [==============================] - 40s 1ms/step - loss: 0.0039 - accuracy: 0.9988\n",
            "Epoch 15/100\n",
            "31910/31910 [==============================] - 40s 1ms/step - loss: 0.0038 - accuracy: 0.9988\n",
            "Epoch 16/100\n",
            "31910/31910 [==============================] - 40s 1ms/step - loss: 0.0039 - accuracy: 0.9988\n",
            "Epoch 17/100\n",
            "31910/31910 [==============================] - 40s 1ms/step - loss: 0.0038 - accuracy: 0.9988\n",
            "Epoch 18/100\n",
            "31910/31910 [==============================] - 40s 1ms/step - loss: 0.0039 - accuracy: 0.9988\n",
            "Epoch 19/100\n",
            "31910/31910 [==============================] - 40s 1ms/step - loss: 0.0038 - accuracy: 0.9988\n",
            "Epoch 20/100\n",
            "31910/31910 [==============================] - 40s 1ms/step - loss: 0.0037 - accuracy: 0.9988\n",
            "Epoch 21/100\n",
            "31910/31910 [==============================] - 41s 1ms/step - loss: 0.0038 - accuracy: 0.9988\n",
            "Epoch 22/100\n",
            "31910/31910 [==============================] - 40s 1ms/step - loss: 0.0037 - accuracy: 0.9988\n",
            "Epoch 23/100\n",
            "31910/31910 [==============================] - 40s 1ms/step - loss: 0.0036 - accuracy: 0.9989\n",
            "Epoch 24/100\n",
            "31910/31910 [==============================] - 40s 1ms/step - loss: 0.0037 - accuracy: 0.9989\n",
            "Epoch 25/100\n",
            "31910/31910 [==============================] - 41s 1ms/step - loss: 0.0037 - accuracy: 0.9988\n",
            "Epoch 26/100\n",
            "31910/31910 [==============================] - 42s 1ms/step - loss: 0.0035 - accuracy: 0.9989\n",
            "Epoch 27/100\n",
            "31910/31910 [==============================] - 41s 1ms/step - loss: 0.0035 - accuracy: 0.9989\n",
            "Epoch 28/100\n",
            "31910/31910 [==============================] - 41s 1ms/step - loss: 0.0036 - accuracy: 0.9989\n",
            "Epoch 29/100\n",
            "31910/31910 [==============================] - 41s 1ms/step - loss: 0.0035 - accuracy: 0.9989\n",
            "Epoch 30/100\n",
            "31910/31910 [==============================] - 41s 1ms/step - loss: 0.0036 - accuracy: 0.9989\n",
            "Epoch 31/100\n",
            "31910/31910 [==============================] - 41s 1ms/step - loss: 0.0035 - accuracy: 0.9989\n",
            "Epoch 32/100\n",
            "31910/31910 [==============================] - 41s 1ms/step - loss: 0.0034 - accuracy: 0.9989\n",
            "Epoch 33/100\n",
            "31910/31910 [==============================] - 41s 1ms/step - loss: 0.0034 - accuracy: 0.9989\n",
            "Epoch 34/100\n",
            "31910/31910 [==============================] - 41s 1ms/step - loss: 0.0034 - accuracy: 0.9989\n",
            "Epoch 35/100\n",
            "31910/31910 [==============================] - 41s 1ms/step - loss: 0.0034 - accuracy: 0.9989\n",
            "Epoch 36/100\n",
            "31910/31910 [==============================] - 42s 1ms/step - loss: 0.0033 - accuracy: 0.9989\n",
            "Epoch 37/100\n",
            "31910/31910 [==============================] - 41s 1ms/step - loss: 0.0033 - accuracy: 0.9989\n",
            "Epoch 38/100\n",
            "31910/31910 [==============================] - 41s 1ms/step - loss: 0.0033 - accuracy: 0.9990\n",
            "Epoch 39/100\n",
            "31910/31910 [==============================] - 41s 1ms/step - loss: 0.0033 - accuracy: 0.9990\n",
            "Epoch 40/100\n",
            "31910/31910 [==============================] - 41s 1ms/step - loss: 0.0033 - accuracy: 0.9990\n",
            "Epoch 41/100\n",
            "31910/31910 [==============================] - 41s 1ms/step - loss: 0.0033 - accuracy: 0.9990\n",
            "Epoch 42/100\n",
            "31910/31910 [==============================] - 40s 1ms/step - loss: 0.0033 - accuracy: 0.9990\n",
            "Epoch 43/100\n",
            "31910/31910 [==============================] - 40s 1ms/step - loss: 0.0033 - accuracy: 0.9990\n",
            "Epoch 44/100\n",
            "31910/31910 [==============================] - 41s 1ms/step - loss: 0.0033 - accuracy: 0.9989\n",
            "Epoch 45/100\n",
            "31910/31910 [==============================] - 41s 1ms/step - loss: 0.0033 - accuracy: 0.9990\n",
            "Epoch 46/100\n",
            "31910/31910 [==============================] - 41s 1ms/step - loss: 0.0033 - accuracy: 0.9990\n",
            "Epoch 47/100\n",
            "31910/31910 [==============================] - 40s 1ms/step - loss: 0.0032 - accuracy: 0.9990\n",
            "Epoch 48/100\n",
            "31910/31910 [==============================] - 41s 1ms/step - loss: 0.0033 - accuracy: 0.9990\n",
            "Epoch 49/100\n",
            "31910/31910 [==============================] - 41s 1ms/step - loss: 0.0032 - accuracy: 0.9990\n",
            "Epoch 50/100\n",
            "31910/31910 [==============================] - 41s 1ms/step - loss: 0.0033 - accuracy: 0.9990\n",
            "Epoch 51/100\n",
            "31910/31910 [==============================] - 41s 1ms/step - loss: 0.0033 - accuracy: 0.9990\n",
            "Epoch 52/100\n",
            "31910/31910 [==============================] - 41s 1ms/step - loss: 0.0032 - accuracy: 0.9990\n",
            "Epoch 53/100\n",
            "31910/31910 [==============================] - 41s 1ms/step - loss: 0.0033 - accuracy: 0.9989\n",
            "Epoch 54/100\n",
            "31910/31910 [==============================] - 41s 1ms/step - loss: 0.0031 - accuracy: 0.9990\n",
            "Epoch 55/100\n",
            "31910/31910 [==============================] - 41s 1ms/step - loss: 0.0032 - accuracy: 0.9990\n",
            "Epoch 56/100\n",
            "31910/31910 [==============================] - 41s 1ms/step - loss: 0.0031 - accuracy: 0.9990\n",
            "Epoch 57/100\n",
            "31910/31910 [==============================] - 41s 1ms/step - loss: 0.0031 - accuracy: 0.9990\n",
            "Epoch 58/100\n",
            "31910/31910 [==============================] - 41s 1ms/step - loss: 0.0031 - accuracy: 0.9990\n",
            "Epoch 59/100\n",
            "31910/31910 [==============================] - 41s 1ms/step - loss: 0.0032 - accuracy: 0.9990\n",
            "Epoch 60/100\n",
            "31910/31910 [==============================] - 40s 1ms/step - loss: 0.0030 - accuracy: 0.9990\n",
            "Epoch 61/100\n",
            "31910/31910 [==============================] - 41s 1ms/step - loss: 0.0032 - accuracy: 0.9990\n",
            "Epoch 62/100\n",
            "31910/31910 [==============================] - 41s 1ms/step - loss: 0.0032 - accuracy: 0.9991\n",
            "Epoch 63/100\n",
            "31910/31910 [==============================] - 41s 1ms/step - loss: 0.0031 - accuracy: 0.9990\n",
            "Epoch 64/100\n",
            "31910/31910 [==============================] - 41s 1ms/step - loss: 0.0031 - accuracy: 0.9990\n",
            "Epoch 65/100\n",
            "31910/31910 [==============================] - 41s 1ms/step - loss: 0.0030 - accuracy: 0.9990\n",
            "Epoch 66/100\n",
            "31910/31910 [==============================] - 41s 1ms/step - loss: 0.0031 - accuracy: 0.9990\n",
            "Epoch 67/100\n",
            "31910/31910 [==============================] - 41s 1ms/step - loss: 0.0031 - accuracy: 0.9991\n",
            "Epoch 68/100\n",
            "31910/31910 [==============================] - 41s 1ms/step - loss: 0.0031 - accuracy: 0.9990\n",
            "Epoch 69/100\n",
            "31910/31910 [==============================] - 41s 1ms/step - loss: 0.0030 - accuracy: 0.9991\n",
            "Epoch 70/100\n",
            "31910/31910 [==============================] - 41s 1ms/step - loss: 0.0031 - accuracy: 0.9990\n",
            "Epoch 71/100\n",
            "31910/31910 [==============================] - 41s 1ms/step - loss: 0.0031 - accuracy: 0.9991\n",
            "Epoch 72/100\n",
            "31910/31910 [==============================] - 41s 1ms/step - loss: 0.0030 - accuracy: 0.9991\n",
            "Epoch 73/100\n",
            "31910/31910 [==============================] - 40s 1ms/step - loss: 0.0029 - accuracy: 0.9991\n",
            "Epoch 74/100\n",
            "31910/31910 [==============================] - 41s 1ms/step - loss: 0.0031 - accuracy: 0.9990\n",
            "Epoch 75/100\n",
            "31910/31910 [==============================] - 41s 1ms/step - loss: 0.0030 - accuracy: 0.9991\n",
            "Epoch 76/100\n",
            "31910/31910 [==============================] - 41s 1ms/step - loss: 0.0030 - accuracy: 0.9991\n",
            "Epoch 77/100\n",
            "31910/31910 [==============================] - 41s 1ms/step - loss: 0.0030 - accuracy: 0.9991\n",
            "Epoch 78/100\n",
            "31910/31910 [==============================] - 41s 1ms/step - loss: 0.0030 - accuracy: 0.9991\n",
            "Epoch 79/100\n",
            "31910/31910 [==============================] - 41s 1ms/step - loss: 0.0030 - accuracy: 0.9991\n",
            "Epoch 80/100\n",
            "31910/31910 [==============================] - 41s 1ms/step - loss: 0.0029 - accuracy: 0.9991\n",
            "Epoch 81/100\n",
            "31910/31910 [==============================] - 41s 1ms/step - loss: 0.0029 - accuracy: 0.9991\n",
            "Epoch 82/100\n",
            "31910/31910 [==============================] - 41s 1ms/step - loss: 0.0030 - accuracy: 0.9991\n",
            "Epoch 83/100\n",
            "31910/31910 [==============================] - 41s 1ms/step - loss: 0.0029 - accuracy: 0.9991\n",
            "Epoch 84/100\n",
            "31910/31910 [==============================] - 41s 1ms/step - loss: 0.0030 - accuracy: 0.9991\n",
            "Epoch 85/100\n",
            "31910/31910 [==============================] - 41s 1ms/step - loss: 0.0030 - accuracy: 0.9991\n",
            "Epoch 86/100\n",
            "31910/31910 [==============================] - 41s 1ms/step - loss: 0.0029 - accuracy: 0.9991\n",
            "Epoch 87/100\n",
            "31910/31910 [==============================] - 41s 1ms/step - loss: 0.0029 - accuracy: 0.9991\n",
            "Epoch 88/100\n",
            "31910/31910 [==============================] - 41s 1ms/step - loss: 0.0030 - accuracy: 0.9991\n",
            "Epoch 89/100\n",
            "31910/31910 [==============================] - 41s 1ms/step - loss: 0.0030 - accuracy: 0.9991\n",
            "Epoch 90/100\n",
            "31910/31910 [==============================] - 41s 1ms/step - loss: 0.0030 - accuracy: 0.9991\n",
            "Epoch 91/100\n",
            "31910/31910 [==============================] - 41s 1ms/step - loss: 0.0030 - accuracy: 0.9991\n",
            "Epoch 92/100\n",
            "31910/31910 [==============================] - 41s 1ms/step - loss: 0.0029 - accuracy: 0.9991\n",
            "Epoch 93/100\n",
            "31910/31910 [==============================] - 41s 1ms/step - loss: 0.0029 - accuracy: 0.9991\n",
            "Epoch 94/100\n",
            "31910/31910 [==============================] - 41s 1ms/step - loss: 0.0029 - accuracy: 0.9991\n",
            "Epoch 95/100\n",
            "31910/31910 [==============================] - 41s 1ms/step - loss: 0.0029 - accuracy: 0.9991\n",
            "Epoch 96/100\n",
            "31910/31910 [==============================] - 41s 1ms/step - loss: 0.0029 - accuracy: 0.9991\n",
            "Epoch 97/100\n",
            "31910/31910 [==============================] - 41s 1ms/step - loss: 0.0029 - accuracy: 0.9991\n",
            "Epoch 98/100\n",
            "31910/31910 [==============================] - 41s 1ms/step - loss: 0.0030 - accuracy: 0.9991\n",
            "Epoch 99/100\n",
            "31910/31910 [==============================] - 42s 1ms/step - loss: 0.0029 - accuracy: 0.9991\n",
            "Epoch 100/100\n",
            "31910/31910 [==============================] - 42s 1ms/step - loss: 0.0028 - accuracy: 0.9992\n"
          ]
        },
        {
          "output_type": "execute_result",
          "data": {
            "text/plain": [
              "<keras.callbacks.History at 0x7f6c151883d0>"
            ]
          },
          "metadata": {},
          "execution_count": 54
        }
      ]
    },
    {
      "cell_type": "code",
      "source": [
        "model.summary()"
      ],
      "metadata": {
        "colab": {
          "base_uri": "https://localhost:8080/"
        },
        "id": "eNKBJapkVcjU",
        "outputId": "a0960d3c-d92d-4fb5-f1a4-392e27727535"
      },
      "id": "eNKBJapkVcjU",
      "execution_count": 55,
      "outputs": [
        {
          "output_type": "stream",
          "name": "stdout",
          "text": [
            "Model: \"sequential_1\"\n",
            "_________________________________________________________________\n",
            " Layer (type)                Output Shape              Param #   \n",
            "=================================================================\n",
            " dense_2 (Dense)             (None, 5)                 50        \n",
            "                                                                 \n",
            " dense_3 (Dense)             (None, 1)                 6         \n",
            "                                                                 \n",
            "=================================================================\n",
            "Total params: 56\n",
            "Trainable params: 56\n",
            "Non-trainable params: 0\n",
            "_________________________________________________________________\n"
          ]
        }
      ]
    },
    {
      "cell_type": "code",
      "source": [
        "# Use the model for predictions and convert probabilities above 0.5 to 1\n",
        "y_pred = model.predict(X_test)\n",
        "y_pred = y_pred > 0.5"
      ],
      "metadata": {
        "id": "rQzWG4iTVhXg"
      },
      "id": "rQzWG4iTVhXg",
      "execution_count": 56,
      "outputs": []
    },
    {
      "cell_type": "code",
      "source": [
        "# Check the confusion matrix\n",
        "print(confusion_matrix(y_test, y_pred))"
      ],
      "metadata": {
        "colab": {
          "base_uri": "https://localhost:8080/"
        },
        "id": "Sf_QYDOmVkXv",
        "outputId": "c92f68aa-07b1-49cd-d15c-026630cbce83"
      },
      "id": "Sf_QYDOmVkXv",
      "execution_count": 57,
      "outputs": [
        {
          "output_type": "stream",
          "name": "stdout",
          "text": [
            "[[133992    169]\n",
            " [     1   2592]]\n"
          ]
        }
      ]
    },
    {
      "cell_type": "code",
      "source": [
        "# Check the classification report\n",
        "print(classification_report(y_test, y_pred))"
      ],
      "metadata": {
        "colab": {
          "base_uri": "https://localhost:8080/"
        },
        "id": "9WJ5crPvVmc-",
        "outputId": "6f489a8a-e56b-4e66-8428-7d54c5eed5f9"
      },
      "id": "9WJ5crPvVmc-",
      "execution_count": 58,
      "outputs": [
        {
          "output_type": "stream",
          "name": "stdout",
          "text": [
            "              precision    recall  f1-score   support\n",
            "\n",
            "           0       1.00      1.00      1.00    134161\n",
            "           1       0.94      1.00      0.97      2593\n",
            "\n",
            "    accuracy                           1.00    136754\n",
            "   macro avg       0.97      1.00      0.98    136754\n",
            "weighted avg       1.00      1.00      1.00    136754\n",
            "\n"
          ]
        }
      ]
    },
    {
      "cell_type": "code",
      "source": [
        "f1_score(y_test, y_pred)"
      ],
      "metadata": {
        "colab": {
          "base_uri": "https://localhost:8080/"
        },
        "id": "3-r0e8urVvfY",
        "outputId": "5a8d9581-cb5b-4139-b805-f882749088a2"
      },
      "id": "3-r0e8urVvfY",
      "execution_count": 59,
      "outputs": [
        {
          "output_type": "execute_result",
          "data": {
            "text/plain": [
              "0.9682480388494583"
            ]
          },
          "metadata": {},
          "execution_count": 59
        }
      ]
    },
    {
      "cell_type": "code",
      "source": [
        "accuracy_score(y_test, y_pred)"
      ],
      "metadata": {
        "colab": {
          "base_uri": "https://localhost:8080/"
        },
        "id": "wKMj62pDVvdK",
        "outputId": "9fefcd35-5b73-4ab6-9974-8c73a72a92a0"
      },
      "id": "wKMj62pDVvdK",
      "execution_count": 60,
      "outputs": [
        {
          "output_type": "execute_result",
          "data": {
            "text/plain": [
              "0.9987568919373474"
            ]
          },
          "metadata": {},
          "execution_count": 60
        }
      ]
    },
    {
      "cell_type": "code",
      "source": [
        "# Check auc score\n",
        "print(roc_auc_score(y_test, y_pred))"
      ],
      "metadata": {
        "colab": {
          "base_uri": "https://localhost:8080/"
        },
        "id": "RI9o8MSaVo1C",
        "outputId": "abe58c74-7402-4d78-b817-4b56605a67b8"
      },
      "id": "RI9o8MSaVo1C",
      "execution_count": 61,
      "outputs": [
        {
          "output_type": "stream",
          "name": "stdout",
          "text": [
            "0.9991773328919582\n"
          ]
        }
      ]
    },
    {
      "cell_type": "code",
      "source": [
        ""
      ],
      "metadata": {
        "id": "JhKHaxzYVy_X"
      },
      "id": "JhKHaxzYVy_X",
      "execution_count": 61,
      "outputs": []
    },
    {
      "cell_type": "code",
      "source": [
        ""
      ],
      "metadata": {
        "id": "9mfDujxhrL6U"
      },
      "id": "9mfDujxhrL6U",
      "execution_count": null,
      "outputs": []
    }
  ]
}